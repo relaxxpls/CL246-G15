{
 "cells": [
  {
   "cell_type": "markdown",
   "id": "612ee46a-eddf-4b66-9ad3-9f4c7d83ed4b",
   "metadata": {},
   "source": [
    "# Case 1: No Water Layer\n",
    "\n",
    "* Author: **Team G15**\n",
    "* Attempt: 3"
   ]
  },
  {
   "cell_type": "markdown",
   "id": "e0e5316e-ce56-4d50-a99a-01c57cf5c33b",
   "metadata": {},
   "source": [
    "## Analysis"
   ]
  },
  {
   "cell_type": "markdown",
   "id": "2ebf0ae3-95c6-449e-9904-f0e9c90dc8cc",
   "metadata": {},
   "source": [
    "### To find\n",
    "\n",
    "1. Temperature of Roof Surface $(T_s)$\n",
    "2. Total heat flux entering the house through the roof, $(q_t)$ when no water layer is present"
   ]
  },
  {
   "cell_type": "markdown",
   "id": "abf3450c-9c76-4847-be69-b5e4884051c2",
   "metadata": {},
   "source": [
    "### Nomenclature\n",
    "\n",
    "* $T_s$ = roof surface temperature (outside)\n",
    "* $T_a$ = ambient air temperature (outside)\n",
    "* $T_r$ = room temperature (inside)\n",
    "* $Nu_a$ = Nusselt number of air\n",
    "* $Ra_a$ = Rayleigh number of air\n",
    "* $Re_a$ = Reynolds number of air\n",
    "* $Pr_a$ = Prandtl number of air\n",
    "* $\\alpha_a$ = thermal diffusivity of air\n",
    "* $k_a$ = thermal conductivity of air\n",
    "* $h_r$ = free convection coefficient of room air\n",
    "* $\\nu_a$ = dynamic Viscosity of air\n",
    "* Roof layers:\n",
    "  * 1: Concrete\n",
    "  * 2: Brick\n",
    "  * 3: Lime\n",
    "* $k_i$ = thermal conductivity of $i^{th}$ roof layer\n",
    "* $L_i$ = length of $i^{th}$ roof layer\n",
    "* $q_{r}$ = radiative heat transfer (per unit area)\n",
    "* $q_{c}$ = convective heat transfer (per unit area)\n",
    "* $q_{t}$ = net heat transfer into the room (per unit area)\n",
    "* $\\beta$ = coefficient of thermal expansion\n",
    "* $S$ = Intensity of Solar Radiation (i.e. solar constant)\n"
   ]
  },
  {
   "cell_type": "markdown",
   "id": "6cf6d402-6b34-4579-89d3-5b64297b5f38",
   "metadata": {},
   "source": [
    "### Assumptions\n",
    "\n",
    "* Steady state with room maintained at fixed ambient temperature"
   ]
  },
  {
   "cell_type": "markdown",
   "id": "f20c5bf1-99de-4fb2-9f7c-6da2b20682a0",
   "metadata": {},
   "source": [
    "### Equations\n",
    "\n",
    "#### Energy balance,\n",
    "\n",
    "$$ q_t = q_c + q_r $$\n",
    "\n",
    "#### Radiation heat transfer,\n",
    "\n",
    "\\begin{align*}\n",
    "  q_r &= \\tau_s\\cdot S - h_r \\cdot (T_a - T_s) \\\\\n",
    "\\\\\n",
    "  h_r &= \\epsilon_s\\cdot \\sigma\\cdot \\frac{(\\overline T_s)^4 - (\\overline T_a - 12)^4}{\\overline T_a - \\overline T_s}\n",
    "\\end{align*}\n",
    "\n",
    "#### Convection heat transfer,\n",
    "\n",
    "\\begin{align*}\n",
    "  q_c &= h_c\\cdot (T_a - T_w) \\\\\n",
    "\\\\\n",
    "  h_c  &= \\frac{k_a}{L_s}\\cdot Nu_a \\\\\n",
    "\\\\\n",
    "  Nu_a &= 0.15\\cdot Ra_a^{1/3} + 0.664\\cdot Re_a^{1/2}\\cdot Pr_a^{1/3} \\\\\n",
    "\\\\\n",
    "  Re_a &= \\frac{v_a\\cdot L_s}{\\nu_a} \\\\\n",
    "\\\\\n",
    "  Ra_L &= \\frac{g\\cdot \\beta\\cdot (T_s - T_a)\\cdot L_s^3}{\\nu_a\\cdot \\alpha_a}\n",
    "\\end{align*}\n",
    "\n",
    "#### Total heat transfer,\n",
    "\n",
    "\\begin{align*}\n",
    "  q_t &= \\frac{T_w - T_r}{R_{net}} \\\\\n",
    "\\\\\n",
    "  R_{net} &= \\frac{1}{h_r} + \\sum_{i=1}^{3} \\frac{L_i}{k_i}\n",
    "\\end{align*}\n"
   ]
  },
  {
   "cell_type": "markdown",
   "id": "b2726100-4771-407f-89fa-d4a72fbed0bd",
   "metadata": {},
   "source": [
    "### Properties\n",
    "\n",
    "#### Outside Air\n",
    "\n",
    "* Mild breeze $v_a = 2.78\\ m/s$\n",
    "* $T_a \\in [305, 320] K$\n",
    "* $T_f = 320K$\n",
    "* $\\beta = \\frac{1}{T_f} = 0.0031\\ K^{-1}$\n",
    "* Table A.4, air ($T_f$):\n",
    "  * $\\nu = 18 \\cdot 10^{-6}\\ m^2/s$\n",
    "  * $\\alpha = 25 \\cdot 10^{-6}\\ m^2/s$\n",
    "  * $Pr = 0.702$\n",
    "  * $k = 27.7 \\cdot 10^{-3}\\ W/m\\cdot K$\n",
    "* $S = 1366\\ W/m^2$\n",
    "\n",
    "#### Roof\n",
    "\n",
    "* $L_s = 5\\ m$ (approx thickness of water layer)\n",
    "* $\\epsilon_s = 0.9$ (concrete surface)\n",
    "* $\\tau_s=0.9$\n",
    "* $t = 0.2\\ m$ thick with,\n",
    "  * Cement = $5\\ cm$\n",
    "  * Brick = $10\\ cm$\n",
    "  * Lime = $5\\ cm$\n",
    "* $K_i$, Conductivity of each layer,\n",
    "  * Cement = $0.72\\ W/m\\cdot K$\n",
    "  * Brick = $0.71\\ W/m\\cdot K$\n",
    "  * Lime = $0.73\\ W/m\\cdot K$\n",
    "\n",
    "#### Inside air\n",
    "\n",
    "* $T_r = 300K$ (Room Temperature)\n",
    "* $h_r = 8.4\\ W/m^2\\cdot K$\n"
   ]
  },
  {
   "cell_type": "markdown",
   "id": "30c40414-ed80-4116-88a7-570a5405bdd7",
   "metadata": {},
   "source": [
    "### Tools used\n",
    "\n",
    "* **Python**\n",
    "* **SymPy** for creating symbolic equations and solving them\n",
    "* **NumPy**\n",
    "* **Matplotlib** for plotting results"
   ]
  },
  {
   "cell_type": "markdown",
   "id": "2a4086cb-0cd6-4447-939d-8678d8a600b1",
   "metadata": {},
   "source": [
    "## Solving (Python Code)"
   ]
  },
  {
   "cell_type": "markdown",
   "id": "31a836dd-b0c6-4e64-bcbc-4fb3024dcc3e",
   "metadata": {},
   "source": [
    "### Initialize Values"
   ]
  },
  {
   "cell_type": "code",
   "execution_count": 1,
   "id": "ec8409e2-0041-44cc-aef9-aaacf7253a3d",
   "metadata": {},
   "outputs": [],
   "source": [
    "%matplotlib inline\n",
    "import sympy as sp\n",
    "import numpy as np\n",
    "import matplotlib.pyplot as plt\n",
    "\n",
    "# Initialize matplotlib\n",
    "plt.rc('text', usetex=True) # Unnecessary\n",
    "plt.style.use('ggplot')\n",
    "plt.rcParams['grid.color'] = '#C0C0C0'"
   ]
  },
  {
   "cell_type": "markdown",
   "id": "0ad5a90e-31d0-4f82-aa61-c06e5c755bb2",
   "metadata": {},
   "source": [
    "#### Outside Air\n",
    "\n",
    "* Table A.4 used (from reference #2)"
   ]
  },
  {
   "cell_type": "code",
   "execution_count": 2,
   "id": "d26e8d0f-b909-4492-9f01-297e91cbd35a",
   "metadata": {},
   "outputs": [],
   "source": [
    "v_a = 2.78 # Velocity (m / s)\n",
    "\n",
    "# Temperatures\n",
    "T_f = 320.0 # (K)\n",
    "beta = 1/T_f # (K)\n",
    "T_a = np.array([305.0, 310.0, 315.0, 320.0]) # (K)\n",
    "T_a_avg = 273 + 37 # (K)\n",
    "\n",
    "# Universal Constants\n",
    "sigma = 5.67e-8 # Stefan Boltzmann constant (W / m^2 * K^4)\n",
    "g = 9.8 # (m / s^2)\n",
    "S = 1366 # Solar constant\n",
    "\n",
    "# Table A.6, air @ T = T_f\n",
    "nu_a = 18e-6 # dynamic visosity (m^2 / s)\n",
    "alpha_a = 25e-6 # (m^2 / s)\n",
    "k_a = 27.7e-3 # thermal conductivity (W / m * K)\n",
    "Pr_a = 0.702"
   ]
  },
  {
   "cell_type": "markdown",
   "id": "edee752f-8e71-41fe-a3ca-bdb7c5d1728c",
   "metadata": {},
   "source": [
    "#### Roof Layers"
   ]
  },
  {
   "cell_type": "code",
   "execution_count": 3,
   "id": "d5f12f4c-0d48-4538-8574-8187c4a64707",
   "metadata": {},
   "outputs": [],
   "source": [
    "# Temperatures\n",
    "T_s = sp.symbols('T_s') # Roof surface temp (K)\n",
    "T_s_avg = 273.0 + 35.0 # (K)\n",
    "\n",
    "# Surface\n",
    "L_s = 5 # Dimensions (m)\n",
    "tau_s = 0.9 # Roof's solar absorbtivity\n",
    "epsilon_s = 0.9 # Emissivity of roof surface (concrete)\n",
    "\n",
    "# Layer 1: Concrete\n",
    "k_1 = 0.72 # (W / m * K)\n",
    "L_1 = 0.05 # (m)\n",
    "\n",
    "# Layer 2: Brick\n",
    "k_2 = 0.71 # (W / m * K)\n",
    "L_2 = 0.10 # (m)\n",
    "\n",
    "# Layer 3: Lime\n",
    "k_3 = 0.73 # (W / m * K)\n",
    "L_3 = 0.05 # (m)"
   ]
  },
  {
   "cell_type": "markdown",
   "id": "06df56cc-3df4-48c2-a820-3e81fb2f39ba",
   "metadata": {},
   "source": [
    "#### Inside Air"
   ]
  },
  {
   "cell_type": "code",
   "execution_count": 4,
   "id": "4daf547e-4f6c-462f-8c2e-b34aea94bd10",
   "metadata": {},
   "outputs": [],
   "source": [
    "h_r = 8.4 # (W / m^2 * K)\n",
    "T_r = 300 # (K)"
   ]
  },
  {
   "cell_type": "markdown",
   "id": "e8825666-5a3a-4bbe-8ffd-88e091c077d7",
   "metadata": {},
   "source": [
    "### Equations"
   ]
  },
  {
   "cell_type": "markdown",
   "id": "f900f084-6482-4c93-9578-59eaed779412",
   "metadata": {},
   "source": [
    "#### Radiation Heat"
   ]
  },
  {
   "cell_type": "code",
   "execution_count": 5,
   "id": "a9c0ef1a-c992-4770-8073-30c3ef5d46c5",
   "metadata": {
    "tags": []
   },
   "outputs": [
    {
     "name": "stdout",
     "output_type": "stream",
     "text": [
      "Approximate value of q_r = 1343.00 W/m^2\n"
     ]
    }
   ],
   "source": [
    "h_r = epsilon_s * sigma * (T_s_avg**4 - (T_a_avg - 12)**4)/(T_a_avg - T_s_avg) # (W / m^2 * K)\n",
    "q_r = tau_s * S - h_r * (T_a - T_s) # (W / m^2)\n",
    "\n",
    "# Example at T_a = 310K and T_s = 314K\n",
    "q_r_test = q_r[1].replace(T_s, 314)\n",
    "print('Approximate value of q_r = %.2f W/m^2' % (q_r_test))"
   ]
  },
  {
   "cell_type": "markdown",
   "id": "5e02b049-f63d-45a1-96ae-803a9af1c8e3",
   "metadata": {},
   "source": [
    "#### Convection Heat\n",
    "\n",
    "* From below analysis, we can neglect free convection in comparison to forced convection"
   ]
  },
  {
   "cell_type": "markdown",
   "id": "e979ae09-a1d5-417b-8f7b-dd6b1839c860",
   "metadata": {},
   "source": [
    "##### Free Convection"
   ]
  },
  {
   "cell_type": "code",
   "execution_count": 6,
   "id": "d5c427ee-9a1f-4cc6-a2a3-bf2b15ed60b1",
   "metadata": {},
   "outputs": [
    {
     "name": "stdout",
     "output_type": "stream",
     "text": [
      "Approximate value of free convection coefficient = 2.69 W/K*m^2\n"
     ]
    }
   ],
   "source": [
    "Ra_a = (g * beta * (T_s - T_a) * L_s**3) / (nu_a * alpha_a)\n",
    "Nu_a_fr = 0.15 * Ra_a**(1/3)\n",
    "h_c_fr = k_a / L_s * Nu_a_fr\n",
    "\n",
    "# Example at T_a = 310K and T_s = 314K\n",
    "h_c_fr_test = h_c_fr[1].replace(T_s, 314)\n",
    "print('Approximate value of free convection coefficient = %.2f W/K*m^2' % (h_c_fr_test))"
   ]
  },
  {
   "cell_type": "markdown",
   "id": "74974e1a-88ee-47c6-890c-d1b7e83c4167",
   "metadata": {},
   "source": [
    "##### Forced Convection"
   ]
  },
  {
   "cell_type": "code",
   "execution_count": 7,
   "id": "1a3dfa66-3d54-436f-9b56-4c25420bac94",
   "metadata": {},
   "outputs": [
    {
     "name": "stdout",
     "output_type": "stream",
     "text": [
      "Approximate value of forced convection coefficient = 332.36 W/K*m^2\n"
     ]
    }
   ],
   "source": [
    "Re_a = v_a * L_s / nu_a\n",
    "Nu_a_fo = 0.664 * Re_a**1/2 * Pr_a**1/3\n",
    "h_c_fo = k_a / L_s * Nu_a_fo\n",
    "\n",
    "# Example at T_a = 310K and T_s = 314K\n",
    "print('Approximate value of forced convection coefficient = %.2f W/K*m^2' % (h_c_fo))"
   ]
  },
  {
   "cell_type": "markdown",
   "id": "43d9b6eb-837a-42f7-a99f-bfc6eed2b6ea",
   "metadata": {},
   "source": [
    "##### Total Convection"
   ]
  },
  {
   "cell_type": "code",
   "execution_count": 8,
   "id": "b1c770c1-e91c-4c32-b6a0-a58b548d5b50",
   "metadata": {},
   "outputs": [
    {
     "name": "stdout",
     "output_type": "stream",
     "text": [
      "Approximate value of q_c = -1329.43 W/m^2\n"
     ]
    }
   ],
   "source": [
    "h_c = h_c_fo # Neglicting free convection\n",
    "q_c = h_c * (T_a - T_s) # (W / m^2)\n",
    "\n",
    "# Example at T_a = 310K and T_s = 314K\n",
    "q_c_test = q_c[1].replace(T_s, 314)\n",
    "print('Approximate value of q_c = %.2f W/m^2' % (q_c_test))"
   ]
  },
  {
   "cell_type": "markdown",
   "id": "2e180775-a55b-4402-a1be-d0a5dd64920a",
   "metadata": {},
   "source": [
    "#### Total Heat:"
   ]
  },
  {
   "cell_type": "code",
   "execution_count": 9,
   "id": "c7ff9470-6a32-43ad-84ef-ad90e2ba1862",
   "metadata": {},
   "outputs": [
    {
     "name": "stdout",
     "output_type": "stream",
     "text": [
      "Approximate value of q_t = 44.59 W/m^2\n"
     ]
    }
   ],
   "source": [
    "R = 1/h_r + L_1/k_1 + L_2/k_2 + L_3/k_3 # (m^2 * K / W)\n",
    "\n",
    "q_t = (T_s - T_r) / R # (W / m^2)\n",
    "\n",
    "# Example at T_a = 310K and T_s = 314K\n",
    "q_t_test = q_t.replace(T_s, 314)\n",
    "print('Approximate value of q_t = %.2f W/m^2' % (q_t_test))"
   ]
  },
  {
   "cell_type": "markdown",
   "id": "a8df7845-8e0c-4416-8c10-804845aa4ce6",
   "metadata": {},
   "source": [
    "### Solving\n",
    "\n",
    "\\begin{align*}\n",
    "  q_c + q_r &= q_t\n",
    "\\\\\n",
    "  \\therefore\\hspace{3pt} q_c + q_r - q_t &= 0\n",
    "\\end{align*}"
   ]
  },
  {
   "cell_type": "markdown",
   "id": "50a3c2ab-1ff4-4272-bd66-3e3090af9400",
   "metadata": {},
   "source": [
    "#### Calculate $T_s$"
   ]
  },
  {
   "cell_type": "code",
   "execution_count": 10,
   "id": "07932192-cc90-442b-8869-1ce2acea5ba5",
   "metadata": {},
   "outputs": [
    {
     "name": "stdout",
     "output_type": "stream",
     "text": [
      "T_s = 309.0 K for T_a = 305.0 K\n",
      "T_s = 313.9 K for T_a = 310.0 K\n",
      "T_s = 318.9 K for T_a = 315.0 K\n",
      "T_s = 323.8 K for T_a = 320.0 K\n"
     ]
    }
   ],
   "source": [
    "eq = q_c + q_r - q_t\n",
    "\n",
    "n = len(eq)\n",
    "T_s_calc = np.empty(n, dtype=object)\n",
    "\n",
    "for i in range(n):\n",
    "    T_s_calc[i] = round(sp.solve(eq[i], T_s)[0], 2)\n",
    "\n",
    "for i in range(n):\n",
    "    print('T_s = %.1f K for T_a = %.1f K' % (T_s_calc[i], T_a[i]))"
   ]
  },
  {
   "cell_type": "markdown",
   "id": "5155aac9-d788-4a35-8149-f83d97f672a8",
   "metadata": {
    "tags": []
   },
   "source": [
    "#### Calculate $q_t$"
   ]
  },
  {
   "cell_type": "code",
   "execution_count": 11,
   "id": "f9ebbf40-b770-46f4-8eab-e5c0f49f5551",
   "metadata": {},
   "outputs": [
    {
     "name": "stdout",
     "output_type": "stream",
     "text": [
      "Heat entering = 28.5 W/m^2 for T_a = 305.0 K\n",
      "Heat entering = 44.3 W/m^2 for T_a = 310.0 K\n",
      "Heat entering = 60.0 W/m^2 for T_a = 315.0 K\n",
      "Heat entering = 75.8 W/m^2 for T_a = 320.0 K\n"
     ]
    }
   ],
   "source": [
    "q_t_calc_1 = np.empty(n, dtype=object)\n",
    "\n",
    "for i in range(n):\n",
    "    q_t_calc_1[i] = q_t.replace(T_s, T_s_calc[i])\n",
    "\n",
    "for i in range(n):\n",
    "    print('Heat entering = %.1f W/m^2 for T_a = %.1f K' % (q_t_calc_1[i], T_a[i]))"
   ]
  },
  {
   "cell_type": "markdown",
   "id": "ff3d84c4-d324-4f4b-b9b9-5b81b2eaafb8",
   "metadata": {},
   "source": [
    "### Plot\n",
    "\n",
    "* Total Heat Flux Entering ($q_t$) vs Outside Air Temp ($T_a$)"
   ]
  },
  {
   "cell_type": "code",
   "execution_count": 12,
   "id": "b52d6959-afae-49ba-a816-ae603dc34185",
   "metadata": {},
   "outputs": [],
   "source": [
    "def make_plot(x, y, xlabel, ylabel, title):\n",
    "    plt.plot(x, y, color='#1F77B4cc', marker='o')\n",
    "    plt.xticks(fontsize=20)\n",
    "    plt.yticks(fontsize=20)\n",
    "    plt.xlabel(xlabel, fontsize=20)\n",
    "    plt.ylabel(ylabel, fontsize=20)\n",
    "    plt.title(title, fontsize=18, pad=15)"
   ]
  },
  {
   "cell_type": "code",
   "execution_count": 13,
   "id": "f58e756c-a444-4164-a022-94dcbb816dc9",
   "metadata": {},
   "outputs": [
    {
     "data": {
      "image/png": "[encoded data removed]",
      "text/plain": [
       "<Figure size 720x432 with 1 Axes>"
      ]
     },
     "metadata": {},
     "output_type": "display_data"
    }
   ],
   "source": [
    "fig = plt.figure(figsize=(10, 6))\n",
    "make_plot(x=T_a, y=q_t_calc_1, xlabel='$T_a$', ylabel='$q_t$',\n",
    "          title='Total Heat Flux Entering ($q_t$) vs Outside Air Temp ($T_a$)')"
   ]
  },
  {
   "cell_type": "markdown",
   "id": "ce6c356e-4260-45dd-bb43-6a9d969464fb",
   "metadata": {},
   "source": [
    "# Case 2: Water Layer\n",
    "\n",
    "* Author: **Team G15**\n",
    "* Attempt: 3"
   ]
  },
  {
   "cell_type": "markdown",
   "id": "b785539f-60ba-4a9f-9bee-4a957397deff",
   "metadata": {},
   "source": [
    "## Analysis"
   ]
  },
  {
   "cell_type": "markdown",
   "id": "6aedbb53-4a78-4708-9f42-0ed7975b5dc9",
   "metadata": {},
   "source": [
    "### To find\n",
    "\n",
    "1. Temperature of Water Surface $(T_w)$\n",
    "2. Total heat flux entering the house through the roof, $(q_t)$ when a water layer is present"
   ]
  },
  {
   "cell_type": "markdown",
   "id": "58c3475c-c7f2-4f29-a6fb-4ff91cdc4c8e",
   "metadata": {},
   "source": [
    "### Nomenclature\n",
    "\n",
    "* $S$ = Intensity of Solar Radiation (i.e. solar constant)\n",
    "* $v_w$ = water velocity\n",
    "* $v_a$ = wind velocity\n",
    "* $\\epsilon_w$ = emissivity of water surface\n",
    "* $\\sigma$ = Stefan-Boltzmann constant $(5.67*10^{-8}\\ W/m^2K^4)$\n",
    "* $T_r$ = room temperature (inside)\n",
    "* $T_w$ = water surface temperature (outside)\n",
    "* $T_a$ = ambient air temperature (outside)\n",
    "* $\\overline T_w$ = average water surface temperature (outside)\n",
    "* $\\overline T_a$ = average air temperature (outside)\n",
    "* $\\tau_w$ = fraction of solar radiation absorbed by water\n",
    "* $k_w$ = thermal conductivity of water\n",
    "* $L_w$ = length of water layer\n",
    "* $h_w$ = convection coefficient of water layer\n",
    "* $h_r$ = radiative heat transfer coefficient\n",
    "* $h_c$ = convective heat transfer coefficient\n",
    "* $h_e$ = evaporative heat transfer coefficient"
   ]
  },
  {
   "cell_type": "markdown",
   "id": "b7f5444e-72db-41dc-a8a7-099da50c6b44",
   "metadata": {},
   "source": [
    "### Assumptions\n",
    "\n",
    "1. Steady state with room maintained at fixed ambient temperature\n",
    "2. Water is still ($v_w = 0$) but gentle breeze is present ($v_a = 10\\ km/h$)\n",
    "3. Dry Surroundings"
   ]
  },
  {
   "cell_type": "markdown",
   "id": "dd08fa57-a537-4bbf-8373-be80f0f1f0c2",
   "metadata": {},
   "source": [
    "### Equations\n",
    "\n",
    "#### Energy balance,\n",
    "\n",
    "$$ q_t = q_c + q_r - q_e $$\n",
    "\n",
    "#### Radiation heat transfer,\n",
    "\n",
    "\\begin{align*}\n",
    "  q_r &= \\tau_w\\cdot S - h_r \\cdot (T_a - T_w) \\\\\n",
    "\\\\\n",
    "  h_r &= \\epsilon_w\\cdot \\sigma\\cdot \\frac{(\\overline T_w)^4 - (\\overline T_a - 12)^4}{\\overline T_a - \\overline T_w}\n",
    "\\end{align*}\n",
    "\n",
    "#### Convection heat transfer,\n",
    "\n",
    "\\begin{align*}\n",
    "  q_c &= h_c\\cdot (T_a - T_w) \\\\\n",
    "\\\\\n",
    "  h_c &= 5.678 \\cdot (1 + 0.85\\cdot(v_a - v_w))\n",
    "\\end{align*}\n",
    "\n",
    "#### Evaporative heat transfer,\n",
    "\n",
    "\\begin{align*}\n",
    "  q_e &= 0.013\\cdot h_c\\cdot (p(\\overline T_w) - \\gamma\\cdot p(\\overline T_a)) \\\\\n",
    "\\\\\n",
    "  p(T) &= R_1\\cdot T + R_2\n",
    "\\end{align*}\n",
    "\n",
    "#### Total heat transfer,\n",
    "\\begin{align*}\n",
    "  q_t &= \\frac{T_w - T_r}{R_{net}} \\\\\n",
    "\\\\\n",
    "  R_{net} &= \\frac{1}{h_r} + \\sum_{i=1}^{3} \\frac{L_i}{k_i} + \\frac{1}{h_{w}} \\\\\n",
    "\\\\\n",
    "  h_w &= \\frac{k_w}{L_w}\\cdot (0.14\\cdot(Gr\\cdot Pr)^{1/3} + 0.644\\cdot (Pr\\cdot Re)^{1/3}) \\\\\n",
    "\\\\\n",
    "  Gr &= \\frac{g\\cdot\\beta\\cdot(T_w-T_a)\\cdot(L_w)^{3}}{\\nu^2}\n",
    "\\end{align*}\n"
   ]
  },
  {
   "cell_type": "markdown",
   "id": "719bd5e7-b36f-4607-8461-4d23821eae06",
   "metadata": {},
   "source": [
    "### Properties\n",
    "\n",
    "#### Outside Air\n",
    "\n",
    "* Mild breeze $v_a = 2.78\\ m/s$\n",
    "* $T_a \\in [305, 320] K$\n",
    "* $T_f = 320K$\n",
    "* $\\beta = \\frac{1}{T_f} = 0.0031\\ K^{-1}$\n",
    "* Table A.4, air ($T_f$):\n",
    "  * $\\nu = 18 \\cdot 10^{-6}\\ m^2/s$\n",
    "  * $\\alpha = 25 \\cdot 10^{-6}\\ m^2/s$\n",
    "  * $Pr = 0.702$\n",
    "  * $k = 27.7 \\cdot 10^{-3}\\ W/m\\cdot K$\n",
    "* $S = 1366\\ W/m^2$\n",
    "* $R_1=325\\ Pa/^\\circ C$ and $R_2 = -5155\\ Pa$ (*from reference* **#1**)\n",
    "* $\\gamma=0.27$ (approx average over a day)\n",
    "\n",
    "#### Water layer\n",
    "\n",
    "* $L_w = 0.1\\ m$ (approx thickness of water layer)\n",
    "* Table A.6, water ($T_w$):\n",
    "  * $\\nu = 18 \\cdot 10^{-6}\\ m^2/s$\n",
    "* Still water $v_w = 0$\n",
    "* $\\epsilon_w = 0.95$\n",
    "* $\\tau_w=0.6$\n",
    "\n",
    "#### Roof\n",
    "\n",
    "* $t = 0.2\\ m$ thick with,\n",
    "  * Cement = $5\\ cm$\n",
    "  * Brick = $10\\ cm$\n",
    "  * Lime = $5\\ cm$\n",
    "* $K_i$, Conductivity of each layer,\n",
    "  * Cement = $0.72\\ W/m\\cdot K$\n",
    "  * Brick = $0.71\\ W/m\\cdot K$\n",
    "  * Lime = $0.73\\ W/m\\cdot K$\n",
    "\n",
    "#### Inside air\n",
    "\n",
    "* $T_r = 300K$ (Room Temperature)\n",
    "* $h_r = 8.4\\ W/m^2\\cdot K$"
   ]
  },
  {
   "cell_type": "markdown",
   "id": "117246dd-64c8-4892-8147-f06626c87b1a",
   "metadata": {},
   "source": [
    "### Tools used\n",
    "\n",
    "* **Python**\n",
    "* **SymPy** for creating symbolic equations and solving them\n",
    "* **NumPy**\n",
    "* **Matplotlib** for plotting results"
   ]
  },
  {
   "cell_type": "markdown",
   "id": "2bcba499-5fbc-4d13-a4a1-06058fcd0035",
   "metadata": {},
   "source": [
    "## Solving (Python Code)"
   ]
  },
  {
   "cell_type": "markdown",
   "id": "b37ab6d7-f239-4d8c-ad1d-96530e36bc27",
   "metadata": {},
   "source": [
    "### Initialize Values"
   ]
  },
  {
   "cell_type": "markdown",
   "id": "d78e0ae1-530a-496b-8ef2-bd173ee95ede",
   "metadata": {},
   "source": [
    "#### Outside Air\n",
    "\n",
    "* Saturation pressure of water p = R_1\\*T + R_2"
   ]
  },
  {
   "cell_type": "code",
   "execution_count": 14,
   "id": "e5c3a46e-4e70-4ff1-8cf7-654edf81c5a6",
   "metadata": {},
   "outputs": [],
   "source": [
    "v_a = 2.78 # Velocity (m / s)\n",
    "\n",
    "# Temperatures\n",
    "T_f = 320 # (K)\n",
    "beta = 1/T_f # (K)\n",
    "T_a = np.array([305.0, 310.0, 315.0, 320.0]) # (K)\n",
    "T_a_avg = 273 + 37 # (K)\n",
    "\n",
    "# Constants\n",
    "sigma = 5.67e-8 # Stefan Boltzmann constant (W / m^2 * K^4)\n",
    "g = 9.8 # (m / s^2)\n",
    "R_1 = 325 # (N / m^2 °C)\n",
    "R_2 = -5155 # (N / m^2)\n",
    "gamma = 0.27\n",
    "S = 1366 # Solar constant\n",
    "\n",
    "def p(T): # Saturation pressure of water as a function of temperature (N / m^2)\n",
    "    return R_1 * (T-273) + R_2"
   ]
  },
  {
   "cell_type": "markdown",
   "id": "751aab20-9860-45bc-916b-14f252ee5214",
   "metadata": {},
   "source": [
    "#### Water Layer"
   ]
  },
  {
   "cell_type": "code",
   "execution_count": 15,
   "id": "c70e6570-8d03-4d5c-878d-413637b177b1",
   "metadata": {},
   "outputs": [],
   "source": [
    "v_w = 0 # Velocity (m / s)\n",
    "L_w = 5 # Dimensions (m)\n",
    "\n",
    "# Temperatures\n",
    "T_w = sp.symbols('T_w') # (K)\n",
    "T_w_avg = 273 + 32 # (K)\n",
    "\n",
    "# Constants\n",
    "epsilon_w = 0.95 # Emissivity of water surface\n",
    "tau_w = 0.6 # Water's solar absorbtivity"
   ]
  },
  {
   "cell_type": "markdown",
   "id": "7b28694f-7b6e-4aa9-8a40-bbf434d0ca03",
   "metadata": {},
   "source": [
    "* Table A.6 used (*from reference* **#2**)\n",
    "* Upon analysing the below data, we can approximate $h_w$ to $950\\ W/m^2$"
   ]
  },
  {
   "cell_type": "code",
   "execution_count": 16,
   "id": "5da53d83-e8d5-4878-986e-bf50d27231c4",
   "metadata": {},
   "outputs": [
    {
     "name": "stdout",
     "output_type": "stream",
     "text": [
      "Approximate min value of h_w = 923.62 W/K*m^2\n"
     ]
    }
   ],
   "source": [
    "rho_w = 990 # density (kg / m^3)\n",
    "k_w = 0.63 # thermal conductivity (W / m * K)\n",
    "mu_w = 1e-6 * np.array([769, 695, 631, 577]) # viscosity (N * s / m^2)\n",
    "nu_w = mu_w / rho_w # dynamic visosity (m^2 / s)\n",
    "\n",
    "Pr_w = np.array([5.20, 4.62, 4.16, 3.77]) # Prandtl number\n",
    "Re_w = 0 # Reynolds number, still water\n",
    "Gr_w = g * beta * (T_a - T_w) * L_w**3 / nu_w**2 # Grashof number\n",
    "\n",
    "# Water free convection coeffecient\n",
    "h_w = (k_w/L_w) * (0.14 * (Gr_w*Pr_w)**(1/3) + 0.644 * (Pr_w*Re_w)**(1/3))\n",
    "\n",
    "# Example at T_a = 310K and T_w = 306K\n",
    "h_w_test = h_w[1].replace(T_w, 306)\n",
    "print('Approximate min value of h_w = %.2f W/K*m^2' % (h_w_test))"
   ]
  },
  {
   "cell_type": "markdown",
   "id": "15721e6d-7e97-4771-92cc-4aa47738e18a",
   "metadata": {},
   "source": [
    "#### Roof Layers"
   ]
  },
  {
   "cell_type": "code",
   "execution_count": 17,
   "id": "ce0b72c1-4ea0-4a5e-b7d1-b5b06018ac30",
   "metadata": {},
   "outputs": [],
   "source": [
    "# Layer 1: Concrete\n",
    "k_1 = 0.72 # (W / m * K)\n",
    "L_1 = 0.05 # (m)\n",
    "\n",
    "# Layer 2: Brick\n",
    "k_2 = 0.71 # (W / m * K)\n",
    "L_2 = 0.10 # (m)\n",
    "\n",
    "# Layer 3: Lime\n",
    "k_3 = 0.73 # (W / m * K)\n",
    "L_3 = 0.05 # (m)"
   ]
  },
  {
   "cell_type": "markdown",
   "id": "4e40e6f1-82cc-4639-8e1d-16efc7eb9eb1",
   "metadata": {},
   "source": [
    "#### Inside Air"
   ]
  },
  {
   "cell_type": "code",
   "execution_count": 18,
   "id": "60719be5-0310-4291-88ca-37be5ff8b0ee",
   "metadata": {},
   "outputs": [],
   "source": [
    "h_r = 8.4 # (W / m^2 * K)\n",
    "T_r = 300 # (K)"
   ]
  },
  {
   "cell_type": "markdown",
   "id": "be4ab8b0-0f4e-44dd-951d-6306b2792faa",
   "metadata": {},
   "source": [
    "### Equations"
   ]
  },
  {
   "cell_type": "markdown",
   "id": "d251cbf1-2c6a-45d2-85a8-677b3464ca65",
   "metadata": {},
   "source": [
    "#### Radiation Heat"
   ]
  },
  {
   "cell_type": "code",
   "execution_count": 19,
   "id": "252a0be6-4c2d-490f-9cdb-44a75b745b82",
   "metadata": {
    "tags": []
   },
   "outputs": [
    {
     "name": "stdout",
     "output_type": "stream",
     "text": [
      "Approximate value of q_r = 786.53 W/m^2\n"
     ]
    }
   ],
   "source": [
    "h_r = epsilon_w * sigma * (T_w_avg**4 - (T_a_avg - 12)**4)/(T_a_avg - T_w_avg) # (W / m^2 * K)\n",
    "q_r = tau_w * S - h_r * (T_a - T_w) # (W / m^2)\n",
    "\n",
    "# Example at T_a = 310K and T_w = 306K\n",
    "q_r_test = q_r[1].replace(T_w, 306)\n",
    "print('Approximate value of q_r = %.2f W/m^2' % (q_r_test))"
   ]
  },
  {
   "cell_type": "markdown",
   "id": "f82922b7-f581-46b7-a567-9c0efed31618",
   "metadata": {},
   "source": [
    "#### Convection Heat\n",
    "\n",
    "* Forced convection and free convection both have been used"
   ]
  },
  {
   "cell_type": "code",
   "execution_count": 20,
   "id": "8f1b2618-8ce1-4f69-8cb5-b37e0f208f07",
   "metadata": {},
   "outputs": [
    {
     "name": "stdout",
     "output_type": "stream",
     "text": [
      "h_c = 19.10 W/K*m^2\n",
      "Approximate value of q_c = 76.38 W/m^2\n"
     ]
    }
   ],
   "source": [
    "h_c = 5.678 * (1 + 0.85 * (v_a - v_w))\n",
    "print('h_c = %.2f W/K*m^2' % (h_c))\n",
    "\n",
    "q_c = h_c * (T_a - T_w) # (W / m^2)\n",
    "\n",
    "# Example at T_a = 310K and T_w = 306K\n",
    "q_c_test = q_c[1].replace(T_w, 306)\n",
    "print('Approximate value of q_c = %.2f W/m^2' % (q_c_test))"
   ]
  },
  {
   "cell_type": "markdown",
   "id": "f3b61497-ed3c-4c83-91d5-def5430a725b",
   "metadata": {},
   "source": [
    "#### Evaporation Heat:"
   ]
  },
  {
   "cell_type": "code",
   "execution_count": 21,
   "id": "71b782cc-6a0a-4685-91ed-16fc8157057c",
   "metadata": {},
   "outputs": [
    {
     "name": "stdout",
     "output_type": "stream",
     "text": [
      "Approximate value of q_e = 841.55\n"
     ]
    }
   ],
   "source": [
    "q_e = 0.013 * h_c * (p(T_w_avg) - gamma * p(T_a_avg)) # function p defined above, (W / m^2)\n",
    "\n",
    "# Example at T_a = 310K and T_w = 306K\n",
    "print('Approximate value of q_e = %.2f' % (q_e))"
   ]
  },
  {
   "cell_type": "markdown",
   "id": "baccb201-32af-4cff-802a-fb02dc00fb7d",
   "metadata": {},
   "source": [
    "#### Total Heat:"
   ]
  },
  {
   "cell_type": "code",
   "execution_count": 22,
   "id": "b020b00d-ea2f-4e85-918a-743369bae256",
   "metadata": {},
   "outputs": [
    {
     "name": "stdout",
     "output_type": "stream",
     "text": [
      "Approximate value of q_t = 14.98 W/m^2\n"
     ]
    }
   ],
   "source": [
    "h_w = 1200 # from above approximation (W / m^2 * K)\n",
    "R = 1/h_r + L_1/k_1 + L_2/k_2 + L_3/k_3 + 1/h_w # (m^2 * K / W)\n",
    "\n",
    "q_t = (T_w - T_r) / R # (W / m^2)\n",
    "\n",
    "# Example at T_a = 310K and T_w = 306K\n",
    "q_t_test = q_t.replace(T_w, 306)\n",
    "print('Approximate value of q_t = %.2f W/m^2' % (q_t_test))"
   ]
  },
  {
   "cell_type": "markdown",
   "id": "15d4586f-7544-4841-ab4f-d321da488e02",
   "metadata": {},
   "source": [
    "### Solving\n",
    "\n",
    "\\begin{align*}\n",
    "  q_c + q_r - q_e &= q_t\n",
    "\\\\\n",
    "  \\therefore\\hspace{3pt} q_c + q_r - q_e - q_t &= 0\n",
    "\\end{align*}"
   ]
  },
  {
   "cell_type": "markdown",
   "id": "32ed882c-a29b-4be6-abeb-1c45a5210960",
   "metadata": {},
   "source": [
    "#### Calculate $T_w$"
   ]
  },
  {
   "cell_type": "code",
   "execution_count": 23,
   "id": "10a21b41-1a28-440d-b65d-4b76bc98b5ea",
   "metadata": {},
   "outputs": [
    {
     "name": "stdout",
     "output_type": "stream",
     "text": [
      "T_w = 302.4 K for T_a = 305.0 K\n",
      "T_w = 306.5 K for T_a = 310.0 K\n",
      "T_w = 310.5 K for T_a = 315.0 K\n",
      "T_w = 314.6 K for T_a = 320.0 K\n"
     ]
    }
   ],
   "source": [
    "eq = q_c + q_r - q_e - q_t\n",
    "\n",
    "n = len(eq)\n",
    "T_w_calc = np.empty(n, dtype=object)\n",
    "\n",
    "for i in range(n):\n",
    "    T_w_calc[i] = round(sp.solve(eq[i], T_w)[0], 2)\n",
    "\n",
    "for i in range(n):\n",
    "    print('T_w = %.1f K for T_a = %.1f K' % (T_w_calc[i], T_a[i]))"
   ]
  },
  {
   "cell_type": "markdown",
   "id": "b36fb129-9b53-4f54-9bb1-56961ab85f8c",
   "metadata": {},
   "source": [
    "#### Calculate $q_t$"
   ]
  },
  {
   "cell_type": "code",
   "execution_count": 24,
   "id": "f7797773-1a85-41ca-9537-bfb382ba075c",
   "metadata": {},
   "outputs": [
    {
     "name": "stdout",
     "output_type": "stream",
     "text": [
      "Heat entering = 6.0 W/m^2 for T_a = 305.0 K\n",
      "Heat entering = 16.2 W/m^2 for T_a = 310.0 K\n",
      "Heat entering = 26.3 W/m^2 for T_a = 315.0 K\n",
      "Heat entering = 36.5 W/m^2 for T_a = 320.0 K\n"
     ]
    }
   ],
   "source": [
    "q_t_calc_2 = np.empty(n, dtype=object)\n",
    "\n",
    "for i in range(n):\n",
    "    q_t_calc_2[i] = q_t.replace(T_w, T_w_calc[i])\n",
    "\n",
    "for i in range(n):\n",
    "    print('Heat entering = %.1f W/m^2 for T_a = %.1f K' % (q_t_calc_2[i], T_a[i]))"
   ]
  },
  {
   "cell_type": "markdown",
   "id": "36bc4e2c-b0b7-400e-a91c-5cbf882b4069",
   "metadata": {},
   "source": [
    "### Plot\n",
    "\n",
    "* Temp Drop Due to Water ($T_a - T_w$) vs Outside Air Temp ($T_a$)\n",
    "* Total Heat Flux Entering ($q_t$) vs Outside Air Temp ($T_a$)"
   ]
  },
  {
   "cell_type": "code",
   "execution_count": 25,
   "id": "41898d2c-352a-4419-b5e7-2fa3c99a8705",
   "metadata": {
    "tags": []
   },
   "outputs": [
    {
     "data": {
      "image/png": "[encoded data removed]",
      "text/plain": [
       "<Figure size 1152x432 with 2 Axes>"
      ]
     },
     "metadata": {},
     "output_type": "display_data"
    }
   ],
   "source": [
    "fig = plt.figure(figsize=(16, 6))\n",
    "\n",
    "ax1 = fig.add_subplot(121)\n",
    "make_plot(x=T_a, y=T_a-T_w_calc, xlabel='$T_a$', ylabel='$T_w$',\n",
    "          title='Temp Drop Due to Water ($T_a - T_w$) vs Outside Air Temp ($T_a$)')\n",
    "\n",
    "ax2 = fig.add_subplot(122)\n",
    "make_plot(x=T_a, y=q_t_calc_2, xlabel='$T_a$', ylabel='$q_t$',\n",
    "          title='Total Heat Flux Entering ($q_t$) vs Outside Air Temp ($T_a$)')\n",
    "\n",
    "fig.tight_layout(w_pad=10)"
   ]
  },
  {
   "cell_type": "markdown",
   "id": "e99308d4-1b53-420c-ad32-6ee53ebc2f4b",
   "metadata": {},
   "source": [
    "## References\n",
    "\n",
    "1. A. Shrivastava *et al*. [\"Evaporative cooling model...\"](https://github.com/relaxxpls/CL246-G15/blob/main/docs/papers/Experimental_validation_of_a_thermal_mod.pdf) (1984)\n",
    "2. F. Incropera *et al*. [\"Fundamentals of Heat and Mass Transfer\"](https://books.google.co.in/books?id=5cgbAAAAQBAJ&newbks=0&hl=en&source=newbks_fb&redir_esc=y)"
   ]
  }
 ],
 "metadata": {
  "kernelspec": {
   "display_name": "Python 3",
   "language": "python",
   "name": "python3"
  },
  "language_info": {
   "codemirror_mode": {
    "name": "ipython",
    "version": 3
   },
   "file_extension": ".py",
   "mimetype": "text/x-python",
   "name": "python",
   "nbconvert_exporter": "python",
   "pygments_lexer": "ipython3",
   "version": "3.9.4"
  }
 },
 "nbformat": 4,
 "nbformat_minor": 5
}
