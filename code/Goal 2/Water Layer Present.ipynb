{
 "cells": [
  {
   "cell_type": "markdown",
   "id": "194d358e-9729-483b-a6be-88d53558df5a",
   "metadata": {},
   "source": [
    "# Case 2: Water Layer\n",
    "\n",
    "* Author: **Team G15**\n",
    "* Attempt: 3"
   ]
  },
  {
   "cell_type": "markdown",
   "id": "909f9e9f-fd8f-4240-94f9-6333d12fed6e",
   "metadata": {},
   "source": [
    "## Analysis"
   ]
  },
  {
   "cell_type": "markdown",
   "id": "e5b839b8-661c-4d16-bb36-9f68f0a6d4d3",
   "metadata": {},
   "source": [
    "### To find\n",
    "\n",
    "1. Temperature of Water Surface $(T_w)$\n",
    "2. Total heat flux entering the house through the roof, $(q_t)$"
   ]
  },
  {
   "cell_type": "markdown",
   "id": "50a8bb03-5717-424b-90ef-adcad5af59e3",
   "metadata": {},
   "source": [
    "### Nomenclature\n",
    "\n",
    "* $S$ = Intensity of Solar Radiation (i.e. Solar Constant)\n",
    "* $u_o$ = water velocity\n",
    "* $v_o$ = wind velocity\n",
    "* $\\epsilon_w$ = emissivity of water surface\n",
    "* $\\sigma$ = Stefan-Boltzmann constant $(5.67*10^{-8}\\ W/m^2K^4)$\n",
    "* $T_r$ = inside room temperature\n",
    "* $T_w$ = water surface temperature\n",
    "* $T_{\\infty}$ = outside air temperature\n",
    "* $\\overline T_w$ = average water surface temperature\n",
    "* $\\overline T_{\\infty}$ = average outside air temperature\n",
    "* $\\tau_w$ = fraction of solar radiation absorbed by water\n",
    "* $k_w$ = thermal conductivity of water\n",
    "* $L_w$ = length of water layer\n",
    "* $h_w$ = convection coefficient of water layer\n",
    "* $h_r$ = radiative heat transfer coefficient\n",
    "* $h_c$ = convective heat transfer coefficient\n",
    "* $h_e$ = evaporative heat transfer coefficient"
   ]
  },
  {
   "cell_type": "markdown",
   "id": "f4da1a14-f4b2-4f21-995a-5bdda027c2c7",
   "metadata": {},
   "source": [
    "### Assumptions\n",
    "\n",
    "1. Steady state with room maintained at fixed ambient temperature\n",
    "2. Water is still ($u_o = 0$) but gentle breeze is present ($v_o = 10\\ km/h$)\n",
    "3. Dry Surroundings"
   ]
  },
  {
   "cell_type": "markdown",
   "id": "b8fd6630-fc35-4f98-9a29-0afac48b6879",
   "metadata": {},
   "source": [
    "### Equations\n",
    "\n",
    "Using energy balance,\n",
    "$$\n",
    "  q_t = q_c + q_r - q_e\n",
    "$$\n",
    "\n",
    "with,\n",
    "\n",
    "* Radiation heat transfer,\n",
    "\\begin{align*}\n",
    "  q_r &= \\tau_w\\cdot S - h_r \\cdot (T_{\\infty} - T_w) \\\\\n",
    "\\\\\n",
    "  h_r &= \\epsilon_w\\cdot \\sigma\\cdot \\frac{(\\overline T_w)^4 - (\\overline T_\\infty - 12)^4}{\\overline T_\\infty - \\overline T_w}\n",
    "\\end{align*}\n",
    "\n",
    "* Convection heat transfer,\n",
    "\\begin{align*}\n",
    "  q_c &= h_c\\cdot (T_{\\infty} - T_w) \\\\\n",
    "\\\\\n",
    "  h_c &= 5.678 \\cdot (1 + 0.85\\cdot(v_o - u_o))\n",
    "\\end{align*}\n",
    "\n",
    "* Evaporative heat transfer,\n",
    "\\begin{align*}\n",
    "  q_e &= 0.013\\cdot h_c\\cdot (p(\\overline{T}_w) - \\gamma\\cdot p(\\overline{T}_\\infty)) \\\\\n",
    "\\\\\n",
    "  p(T) &= R_1\\cdot T + R_2\n",
    "\\end{align*}\n",
    "\n",
    "* Total heat transfer,\n",
    "\\begin{align*}\n",
    "  q_t &= \\frac{T_w - T_r}{R_{net}} \\\\\n",
    "\\\\\n",
    "  R_{net} &= \\frac{1}{h_r} + \\sum_{i=1}^{3} \\frac{L_i}{k_i} + \\frac{1}{h_{w}} \\\\\n",
    "\\\\\n",
    "  h_w &= \\frac{k_w}{L_w}\\cdot (0.14\\cdot(Gr\\cdot Pr)^{1/3} + 0.644\\cdot (Pr\\cdot Re)^{1/3}) \\\\\n",
    "\\\\\n",
    "  Gr &= \\frac{g\\cdot\\beta\\cdot(T_w-T_a)\\cdot(L_w)^{3}}{\\nu^2} \\end{align*}"
   ]
  },
  {
   "cell_type": "markdown",
   "id": "cb7f7658-b028-42d3-8d22-06d05b60b6dc",
   "metadata": {},
   "source": [
    "### Properties\n",
    "\n",
    "#### Outside Air\n",
    "* Mild breeze $v_o = 2.78\\ m/s$\n",
    "* $T_\\infty \\in [300, 330] K$\n",
    "* $T_f = 320K$\n",
    "* $\\beta = \\frac{1}{T_f} = 0.0031\\ K^{-1}$\n",
    "* Table A.4, air ($T_f$):\n",
    "  * $\\nu = 18 \\cdot 10^{-6}\\ m^2/s$\n",
    "  * $\\alpha = 25 \\cdot 10^{-6}\\ m^2/s$\n",
    "  * $Pr = 0.702$\n",
    "  * $k = 27.7 \\cdot 10^{-3}\\ W/m\\cdot K$\n",
    "* $p_{A, \\infty} \\approx 0$\n",
    "* $S = 1366\\ W/m^2$\n",
    "* $R_1=325\\ Pa/^\\circ C$ and $R_2 = -5155\\ Pa$ (*from reference* **#1**)\n",
    "* $\\gamma=0.27$ (approx average over a day)\n",
    "* $r = 0.1$\n",
    "\n",
    "#### Water layer\n",
    "* $L_w = 0.1\\ m$ (approx thickness of water layer)\n",
    "* Table A.6, water ($T_w$):\n",
    "  * $\\nu = 18 \\cdot 10^{-6}\\ m^2/s$\n",
    "* Still water $u_o = 0$\n",
    "* $\\epsilon_w = 0.95$\n",
    "* $\\tau_w=0.2$\n",
    "\n",
    "#### Roof\n",
    "* $t = 0.2\\ m$ thick with,\n",
    "  * Cement = $5\\ cm$\n",
    "  * Brick = $10\\ cm$\n",
    "  * Lime = $5\\ cm$\n",
    "* $K_i$, Conductivity of each layer,\n",
    "  * Cement = $0.72\\ W/m\\cdot K$\n",
    "  * Brick = $0.71\\ W/m\\cdot K$\n",
    "  * Lime = $0.73\\ W/m\\cdot K$\n",
    "\n",
    "#### Inside air\n",
    "* $T_r = 300K$ (Room Temperature)\n",
    "* $h_r = 8.4\\ W/m^2\\cdot K$"
   ]
  },
  {
   "cell_type": "markdown",
   "id": "7f8822ff-b71c-43e4-b89e-b59e000fe135",
   "metadata": {},
   "source": [
    "### Tools used\n",
    "\n",
    "* **Python**\n",
    "* **SymPy** for creating symbolic equations and solving them\n",
    "* **NumPy**\n",
    "* **Matplotlib** for plotting results"
   ]
  },
  {
   "cell_type": "markdown",
   "id": "93b7a152-d4e6-4e00-863c-285348061574",
   "metadata": {},
   "source": [
    "## Solving (Python Code)"
   ]
  },
  {
   "cell_type": "markdown",
   "id": "respiratory-washer",
   "metadata": {},
   "source": [
    "### Initialize Values"
   ]
  },
  {
   "cell_type": "code",
   "execution_count": 1,
   "id": "swedish-artwork",
   "metadata": {},
   "outputs": [],
   "source": [
    "import sympy as sp\n",
    "import numpy as np"
   ]
  },
  {
   "cell_type": "markdown",
   "id": "73c81807-a13c-47d6-b5ed-9ce1bcc70bfa",
   "metadata": {},
   "source": [
    "#### Outside Air\n",
    "\n",
    "* Saturation pressure of water p = R_1\\*T + R_2"
   ]
  },
  {
   "cell_type": "code",
   "execution_count": 40,
   "id": "a2208b0e-7315-45e4-8489-bc8678d5a9ed",
   "metadata": {},
   "outputs": [],
   "source": [
    "v_o = 2.78 # Velocity (m / s)\n",
    "\n",
    "# Temperatures\n",
    "T_f = 320 # (K)\n",
    "beta = 1/T_f # (K)\n",
    "T_oo = np.array([305.0, 310.0, 315.0, 320.0]) # (K)\n",
    "T_oo_avg = 273 + 37 # (K)\n",
    "\n",
    "# Constants\n",
    "sigma = 5.67e-8 # Stefan Boltzmann constant (W / m^2 * K^4)\n",
    "g = 9.8 # (m^2 / s)\n",
    "R_1 = 325 # N / m^2 °C\n",
    "R_2 = -5155 # N / m^2\n",
    "gamma = 0.27\n",
    "S = 1366 # Solar constant\n",
    "\n",
    "def p(T): # Saturation pressure of water as a function of temperature (N / m^2)\n",
    "    return R_1 * (T-273) + R_2"
   ]
  },
  {
   "cell_type": "markdown",
   "id": "baf81ff9-b870-43e5-aa5e-dc3a58b5b577",
   "metadata": {},
   "source": [
    "#### Water Layer"
   ]
  },
  {
   "cell_type": "code",
   "execution_count": 11,
   "id": "7d916b08-312e-4240-95a1-eb2a521778f9",
   "metadata": {},
   "outputs": [],
   "source": [
    "u_o = 0 # Velocity (m / s)\n",
    "L_w = 5 # Dimensions (m)\n",
    "\n",
    "# Temperatures\n",
    "T_w = sp.symbols('T_w') # (K)\n",
    "T_w_avg = 273 + 32 # (K)\n",
    "\n",
    "# Constants\n",
    "epsilon_w = 0.95 # Emissivity of water surface\n",
    "tau_w = 0.6 # Water's solar absorbtivity"
   ]
  },
  {
   "cell_type": "markdown",
   "id": "9587c5d5-628c-4c37-825b-ca91ec4ebadb",
   "metadata": {},
   "source": [
    "* Table A.6 used (*from reference* **#2**)\n",
    "* Upon analysing the below data, we can approximate $h_w$ to $950\\ W/m^2$"
   ]
  },
  {
   "cell_type": "code",
   "execution_count": 22,
   "id": "entitled-revelation",
   "metadata": {},
   "outputs": [
    {
     "name": "stdout",
     "output_type": "stream",
     "text": [
      "Approximate min value of h_w = 923.62\n"
     ]
    }
   ],
   "source": [
    "rho_w = 990 # density (kg / m^3)\n",
    "k_w = 0.63 # thermal conductivity (W / m * K)\n",
    "mu_w = 1e-6 * np.array([769, 695, 631, 577]) # viscosity (N * s / m^2)\n",
    "nu_w = mu_w / rho_w # dynamic visosity (m^2 / s)\n",
    "\n",
    "Pr_w = np.array([5.20, 4.62, 4.16, 3.77]) # Prandtl number\n",
    "Re_w = 0 # Reynolds number, still water\n",
    "Gr_w = g * beta * (T_oo - T_w) * L_w**3 / nu_w**2 # Grashof number\n",
    "\n",
    "# Water free convection coeffecient\n",
    "h_w = (k_w/L_w) * (0.14 * (Gr_w*Pr_w)**(1/3) + 0.644 * (Pr_w*Re_w)**(1/3))\n",
    "\n",
    "# Example at T_oo = 310K and T_w = 306K\n",
    "h_w_test = h_w[1].replace(T_w, 306)\n",
    "print('Approximate min value of h_w = %.2f' % (h_w_test))"
   ]
  },
  {
   "cell_type": "markdown",
   "id": "aa007775-bd24-4427-bf6d-216377fff1b1",
   "metadata": {},
   "source": [
    "#### Roof Layers"
   ]
  },
  {
   "cell_type": "code",
   "execution_count": 27,
   "id": "72afa777-0875-4ee6-a083-f48c3e63fb2c",
   "metadata": {},
   "outputs": [],
   "source": [
    "k_1 = 0.72 # Concrete (W / m * K)\n",
    "k_2 = 0.71 # Brick (W / m * K)\n",
    "k_3 = 0.73 # Lime (W / m * K)\n",
    "\n",
    "L_1 = 0.05 # Concrete (m)\n",
    "L_2 = 0.10 # Brick (m)\n",
    "L_3 = 0.05 # Lime (m)"
   ]
  },
  {
   "cell_type": "markdown",
   "id": "39b52a83-c921-47b8-abd1-5aa547558a0d",
   "metadata": {},
   "source": [
    "#### Inside Air"
   ]
  },
  {
   "cell_type": "code",
   "execution_count": 24,
   "id": "5f363664-1129-45bf-b9a6-32ee9082f0df",
   "metadata": {},
   "outputs": [],
   "source": [
    "h_r = 8.4 # (W / m^2 * K)\n",
    "T_r = 300 # (K)"
   ]
  },
  {
   "cell_type": "markdown",
   "id": "c3142b4b-220d-4d22-98fc-5dc374d64536",
   "metadata": {},
   "source": [
    "### Equations"
   ]
  },
  {
   "cell_type": "markdown",
   "id": "1ad90d7f-4956-4d99-8804-fa10d82e138d",
   "metadata": {},
   "source": [
    "#### Radiation Heat"
   ]
  },
  {
   "cell_type": "code",
   "execution_count": 26,
   "id": "7205b8fd-732b-4901-b92d-27a33afb9c4d",
   "metadata": {
    "tags": []
   },
   "outputs": [
    {
     "name": "stdout",
     "output_type": "stream",
     "text": [
      "Approximate value of q_r = 786.53\n"
     ]
    }
   ],
   "source": [
    "h_r = epsilon_w * sigma * (T_w_avg**4 - (T_oo_avg - 12)**4)/(T_oo_avg - T_w_avg) # (W / m^2 * K)\n",
    "q_r = tau_w * S - h_r * (T_oo - T_w) # (W / m^2)\n",
    "\n",
    "# Example at T_oo = 310K and T_w = 306K\n",
    "q_r_test = q_r[1].replace(T_w, 306)\n",
    "print('Approximate value of q_r = %.2f' % (q_r_test))"
   ]
  },
  {
   "cell_type": "markdown",
   "id": "e8417c39-b1e9-4b12-a20b-42bb6ed1398b",
   "metadata": {},
   "source": [
    "#### Convection Heat\n",
    "\n",
    "* Forced convection and free convection both have been used"
   ]
  },
  {
   "cell_type": "code",
   "execution_count": 31,
   "id": "0c400765-66ba-471a-a0cb-18162cf7918b",
   "metadata": {},
   "outputs": [
    {
     "name": "stdout",
     "output_type": "stream",
     "text": [
      "h_c = 19.10\n",
      "Approximate value of q_c = 76.38\n"
     ]
    }
   ],
   "source": [
    "h_c = 5.678 * (1 + 0.85 * (v_o - u_o))\n",
    "print('h_c = %.2f' % (h_c))\n",
    "\n",
    "q_c = h_c * (T_oo - T_w) # (W / m^2)\n",
    "\n",
    "# Example at T_oo = 310K and T_w = 306K\n",
    "q_c_test = q_c[1].replace(T_w, 306)\n",
    "print('Approximate value of q_c = %.2f' % (q_c_test))"
   ]
  },
  {
   "cell_type": "markdown",
   "id": "a5d9a464-ee90-4d73-ae28-c610479b36b8",
   "metadata": {},
   "source": [
    "#### Evaporation Heat:"
   ]
  },
  {
   "cell_type": "code",
   "execution_count": 35,
   "id": "a595c659-5c82-438e-bfc4-3a5470c97486",
   "metadata": {},
   "outputs": [
    {
     "name": "stdout",
     "output_type": "stream",
     "text": [
      "Approximate value of q_e = 841.55\n"
     ]
    }
   ],
   "source": [
    "q_e = 0.013 * h_c * (p(T_w_avg) - gamma * p(T_oo_avg)) # function p defined above, (W / m^2)\n",
    "\n",
    "# Example at T_oo = 310K and T_w = 306K\n",
    "print('Approximate value of q_e = %.2f' % (q_e))"
   ]
  },
  {
   "cell_type": "markdown",
   "id": "b1e73be0-2cf7-464b-a740-fef439048ebe",
   "metadata": {},
   "source": [
    "#### Total Heat:"
   ]
  },
  {
   "cell_type": "code",
   "execution_count": 39,
   "id": "fb70223b-3bb6-4dd1-9fa3-184c58ab0ca9",
   "metadata": {},
   "outputs": [
    {
     "name": "stdout",
     "output_type": "stream",
     "text": [
      "Approximate value of q_t = 14.98\n"
     ]
    }
   ],
   "source": [
    "h_w = 1200 # from above approximation (W / m^2 * K)\n",
    "R = 1/h_r + L_1/k_1 + L_2/k_2 + L_3/k_3 + 1/h_w # (m^2 * K / W)\n",
    "\n",
    "q_t = (T_w - T_r) / R # (W / m^2)\n",
    "\n",
    "# Example at T_oo = 310K and T_w = 306K\n",
    "q_t_test = q_t.replace(T_w, 306)\n",
    "print('Approximate value of q_t = %.2f' % (q_t_test))"
   ]
  },
  {
   "cell_type": "markdown",
   "id": "98591738-55e1-4d4c-adab-650f4e509512",
   "metadata": {},
   "source": [
    "### Solving\n",
    "\n",
    "\\begin{align*}\n",
    "  q_c + q_r - q_e &= q_t\n",
    "\\\\\n",
    "  \\therefore\\hspace{3pt} q_c + q_r - q_e - q_t &= 0\n",
    "\\end{align*}"
   ]
  },
  {
   "cell_type": "markdown",
   "id": "44387009-f3b6-4350-b32a-872109fd60e9",
   "metadata": {},
   "source": [
    "#### Calculate $T_w$"
   ]
  },
  {
   "cell_type": "code",
   "execution_count": 52,
   "id": "c7eff677-79c5-4308-8e94-093527c36323",
   "metadata": {},
   "outputs": [
    {
     "name": "stdout",
     "output_type": "stream",
     "text": [
      "T_w = 302.4 K for T_oo = 305.0 K\n",
      "T_w = 306.5 K for T_oo = 310.0 K\n",
      "T_w = 310.5 K for T_oo = 315.0 K\n",
      "T_w = 314.6 K for T_oo = 320.0 K\n"
     ]
    }
   ],
   "source": [
    "eq = q_c + q_r - q_e - q_t\n",
    "\n",
    "n = len(eq)\n",
    "T_w_calc = np.empty(n, dtype=object)\n",
    "\n",
    "for i in range(n):\n",
    "    T_w_calc[i] = round(sp.solve(eq[i], T_w)[0], 2)\n",
    "\n",
    "for i in range(n):\n",
    "    print('T_w = %.1f K for T_oo = %.1f K' % (T_w_calc[i], T_oo[i]))"
   ]
  },
  {
   "cell_type": "markdown",
   "id": "70b15ba6-1e79-4225-9d67-58300438c5e5",
   "metadata": {},
   "source": [
    "#### Calculate $q_t$"
   ]
  },
  {
   "cell_type": "code",
   "execution_count": 48,
   "id": "6f0ab5a1-2602-484d-ad52-654e6eec5c18",
   "metadata": {},
   "outputs": [
    {
     "name": "stdout",
     "output_type": "stream",
     "text": [
      "Heat entering = 6.0 W/m^2 for T_oo = 305.0 K\n",
      "Heat entering = 16.2 W/m^2 for T_oo = 310.0 K\n",
      "Heat entering = 26.3 W/m^2 for T_oo = 315.0 K\n",
      "Heat entering = 36.5 W/m^2 for T_oo = 320.0 K\n"
     ]
    }
   ],
   "source": [
    "q_t_calc = np.empty(n, dtype=object)\n",
    "\n",
    "for i in range(n):\n",
    "    q_t_calc[i] = q_t.replace(T_w, T_w_calc[i])\n",
    "\n",
    "for i in range(n):\n",
    "    print('Heat entering = %.1f W/m^2 for T_oo = %.1f K' % (q_t_calc[i], T_oo[i]))"
   ]
  },
  {
   "cell_type": "markdown",
   "id": "d2ee7784-52ec-4d94-8444-a561affeb5b9",
   "metadata": {},
   "source": [
    "### Plot\n",
    "\n",
    "* Temp Drop Due to Water ($T_\\infty - T_w$) vs Outside Air Temp ($T_\\infty$)\n",
    "* Total Heat Flux Entering ($q_t$) vs Outside Air Temp ($T_\\infty$)"
   ]
  },
  {
   "cell_type": "code",
   "execution_count": 53,
   "id": "d7b5a254-94b6-4c0b-9f03-150afb53c3b0",
   "metadata": {},
   "outputs": [
    {
     "data": {
      "image/png": "[encoded data removed]",
      "text/plain": [
       "<Figure size 1152x432 with 2 Axes>"
      ]
     },
     "metadata": {},
     "output_type": "display_data"
    }
   ],
   "source": [
    "%matplotlib inline\n",
    "import matplotlib.pyplot as plt\n",
    "\n",
    "# Initialize matplotlib\n",
    "plt.rc('text', usetex=True) # Unnecessary\n",
    "plt.style.use('ggplot')\n",
    "plt.rcParams['grid.color'] = '#C0C0C0'\n",
    "\n",
    "fig = plt.figure(figsize=(16, 6))\n",
    "\n",
    "ax1 = fig.add_subplot(121)\n",
    "plt.plot(T_oo, T_oo-T_w_calc, color='#1F77B4cc', marker='o')\n",
    "plt.xticks(fontsize=20)\n",
    "plt.yticks(fontsize=20)\n",
    "plt.xlabel('$T_\\infty$', fontsize=20)\n",
    "plt.ylabel('$T_w$', fontsize=20)\n",
    "plt.title('Temp Drop Due to Water ($T_\\infty - T_w$) vs Outside Air Temp ($T_\\infty$)', fontsize=18, pad=15)\n",
    "\n",
    "ax2 = fig.add_subplot(122)\n",
    "plt.plot(T_oo, q_t_calc, color='#1F77B4cc', marker='o')\n",
    "plt.xticks(fontsize=20)\n",
    "plt.yticks(fontsize=20)\n",
    "plt.xlabel('$T_\\infty$', fontsize=20)\n",
    "plt.ylabel('$q_t$', fontsize=20)\n",
    "plt.title('Total Heat Flux Entering ($q_t$) vs Outside Air Temp ($T_\\infty$)', fontsize=18, pad=15)\n",
    "\n",
    "fig.tight_layout(w_pad=10)"
   ]
  },
  {
   "cell_type": "markdown",
   "id": "c293759b-be58-4119-9d04-e6cf163fc983",
   "metadata": {},
   "source": [
    "## References\n",
    "\n",
    "1. A. Shrivastava *et al*. [\"Evaporative cooling model...\"](https://github.com/relaxxpls/CL246-G15/blob/main/docs/papers/Experimental_validation_of_a_thermal_mod.pdf) (1984)\n",
    "2. F. Incropera *et al*. \"Fundamentals of Heat and Mass Transfer.\""
   ]
  }
 ],
 "metadata": {
  "kernelspec": {
   "display_name": "Python 3",
   "language": "python",
   "name": "python3"
  },
  "language_info": {
   "codemirror_mode": {
    "name": "ipython",
    "version": 3
   },
   "file_extension": ".py",
   "mimetype": "text/x-python",
   "name": "python",
   "nbconvert_exporter": "python",
   "pygments_lexer": "ipython3",
   "version": "3.9.4"
  }
 },
 "nbformat": 4,
 "nbformat_minor": 5
}
