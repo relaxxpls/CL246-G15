{
 "cells": [
  {
   "cell_type": "markdown",
   "id": "cdb4cba1-d7fb-48ef-b2ec-6dba72ba5385",
   "metadata": {},
   "source": [
    "# Goal 2: Calculate $R_{net}$ & $\\dot{q}_x$ *(No Water Layer)*"
   ]
  },
  {
   "cell_type": "code",
   "execution_count": 2,
   "id": "8d71d3c3-2a8d-4b20-963b-fa81f0156184",
   "metadata": {},
   "outputs": [],
   "source": [
    "import sympy as sp\n",
    "import numpy as np"
   ]
  },
  {
   "cell_type": "code",
   "execution_count": 50,
   "id": "3de1654f-8728-4653-8d29-7fa61fb35518",
   "metadata": {},
   "outputs": [
    {
     "data": {
      "text/latex": [
       "$\\displaystyle - 544444.444444445 T_{oo} + 544444.444444445 T_{s}$"
      ],
      "text/plain": [
       "-544444.444444445*T_oo + 544444.444444445*T_s"
      ]
     },
     "metadata": {},
     "output_type": "display_data"
    }
   ],
   "source": [
    "# T_oo = np.array([300, 305, 310, 315, 320, 325, 330]) # T_oo\n",
    "T_oo = sp.symbols('T_oo')\n",
    "T_s = sp.symbols('T_s')\n",
    "\n",
    "delta_T = T_s - T_oo\n",
    "# delta_T = 30 # (Assume)\n",
    "\n",
    "#T_f = (T_oo + T_s) / 2\n",
    "T_f = 320\n",
    "beta = 1/T_f\n",
    "\n",
    "# cement=5cm, brick=10cm, lime=5cm\n",
    "L = 0.2\n",
    "g = 9.8\n",
    "\n",
    "# linear interpolation\n",
    "# nu = 1e-6 * np.array([15.9, 16.4, 16.9, 17.4, 17.9, 18.4, 18.9])\n",
    "# alpha = 1e-6 * np.array([22.50, 23.25, 24.0, 24.75, 25.50, 26.25, 27.00])\n",
    "nu = 18e-6\n",
    "alpha = 25e-6\n",
    "\n",
    "Ra_L = (g * beta * delta_T * L**3) / (nu * alpha)\n",
    "display(Ra_L)\n",
    "# print('Raleigh Number =', Ra_L)"
   ]
  },
  {
   "cell_type": "code",
   "execution_count": 51,
   "id": "a0066d11-e88f-42b1-8c37-0a23e737345b",
   "metadata": {},
   "outputs": [
    {
     "data": {
      "text/latex": [
       "$\\displaystyle 12.248299083566 \\left(- T_{oo} + T_{s}\\right)^{0.333333333333333}$"
      ],
      "text/plain": [
       "12.248299083566*(-T_oo + T_s)**0.333333333333333"
      ]
     },
     "metadata": {},
     "output_type": "display_data"
    }
   ],
   "source": [
    "Nu_L = 0.15 * Ra_L**(1/3)\n",
    "display(Nu_L)\n",
    "# print('Nusselt Number =', Nu_L)"
   ]
  },
  {
   "cell_type": "code",
   "execution_count": 52,
   "id": "93f26975-f408-4760-9bc2-c57b98a0b115",
   "metadata": {},
   "outputs": [
    {
     "data": {
      "text/latex": [
       "$\\displaystyle 1.69638942307389 \\left(- T_{oo} + T_{s}\\right)^{0.333333333333333}$"
      ],
      "text/plain": [
       "1.69638942307389*(-T_oo + T_s)**0.333333333333333"
      ]
     },
     "metadata": {},
     "output_type": "display_data"
    }
   ],
   "source": [
    "k = 27.7e-3\n",
    "h_t = k/L * Nu_L\n",
    "display(h_t)\n",
    "# print('Convection coeff =', h_t)"
   ]
  },
  {
   "cell_type": "code",
   "execution_count": null,
   "id": "2e6b1150-c4c5-4dd7-8d0a-ce2ad8f274d4",
   "metadata": {},
   "outputs": [],
   "source": []
  },
  {
   "cell_type": "markdown",
   "id": "3d6e8f82-9cdd-40ab-80f2-320156925468",
   "metadata": {},
   "source": [
    "References: Incorpera  \n",
    "eqns: pg 611, table 995"
   ]
  }
 ],
 "metadata": {
  "kernelspec": {
   "display_name": "Python 3",
   "language": "python",
   "name": "python3"
  },
  "language_info": {
   "codemirror_mode": {
    "name": "ipython",
    "version": 3
   },
   "file_extension": ".py",
   "mimetype": "text/x-python",
   "name": "python",
   "nbconvert_exporter": "python",
   "pygments_lexer": "ipython3",
   "version": "3.9.4"
  }
 },
 "nbformat": 4,
 "nbformat_minor": 5
}
