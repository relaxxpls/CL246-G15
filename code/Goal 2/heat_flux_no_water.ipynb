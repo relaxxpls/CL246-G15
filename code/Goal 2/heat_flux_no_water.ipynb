{
 "cells": [
  {
   "cell_type": "markdown",
   "id": "cdb4cba1-d7fb-48ef-b2ec-6dba72ba5385",
   "metadata": {},
   "source": [
    "# Goal 2: Calculate $R_{net}$ & $\\dot{q}_x$ *(No Water Layer)*"
   ]
  },
  {
   "cell_type": "code",
   "execution_count": 2,
   "id": "8d71d3c3-2a8d-4b20-963b-fa81f0156184",
   "metadata": {},
   "outputs": [],
   "source": [
    "import sympy as sp\n",
    "import numpy as np"
   ]
  },
  {
   "cell_type": "code",
   "execution_count": 73,
   "id": "3de1654f-8728-4653-8d29-7fa61fb35518",
   "metadata": {},
   "outputs": [
    {
     "data": {
      "text/plain": [
       "array([1063368055.55556*T_s - 319010416666.667,\n",
       "       1063368055.55556*T_s - 324327256944.444,\n",
       "       1063368055.55556*T_s - 329644097222.222,\n",
       "       1063368055.55556*T_s - 334960937500.0,\n",
       "       1063368055.55556*T_s - 340277777777.778,\n",
       "       1063368055.55556*T_s - 345594618055.556,\n",
       "       1063368055.55556*T_s - 350911458333.333], dtype=object)"
      ]
     },
     "metadata": {},
     "output_type": "display_data"
    }
   ],
   "source": [
    "T_oo = np.array([300, 305, 310, 315, 320, 325, 330]) # T_oo\n",
    "# T_oo = sp.symbols('T_oo')\n",
    "T_s = sp.symbols('T_s')\n",
    "\n",
    "delta_T = T_s - T_oo\n",
    "# delta_T = 30 # (Assume)\n",
    "\n",
    "#T_f = (T_oo + T_s) / 2\n",
    "T_f = 320\n",
    "beta = 1/T_f\n",
    "\n",
    "# cement=5cm, brick=10cm, lime=5cm\n",
    "L = 2.5 # Independant of length\n",
    "g = 9.8\n",
    "\n",
    "# linear interpolation\n",
    "# nu = 1e-6 * np.array([15.9, 16.4, 16.9, 17.4, 17.9, 18.4, 18.9])\n",
    "# alpha = 1e-6 * np.array([22.50, 23.25, 24.0, 24.75, 25.50, 26.25, 27.00])\n",
    "nu = 18e-6\n",
    "alpha = 25e-6\n",
    "\n",
    "Ra_L = (g * beta * delta_T * L**3) / (nu * alpha)\n",
    "display(Ra_L)\n",
    "# print('Raleigh Number =', Ra_L)"
   ]
  },
  {
   "cell_type": "code",
   "execution_count": 74,
   "id": "a0066d11-e88f-42b1-8c37-0a23e737345b",
   "metadata": {},
   "outputs": [
    {
     "data": {
      "text/plain": [
       "array([1024.92687362504*(0.00333333333333333*T_s - 1)**0.333333333333333,\n",
       "       1030.58956795435*(0.00327868852459016*T_s - 1)**0.333333333333333,\n",
       "       1036.19070821137*(0.0032258064516129*T_s - 1)**0.333333333333333,\n",
       "       1041.73194035413*(0.00317460317460317*T_s - 1)**0.333333333333333,\n",
       "       1047.21484103001*(0.003125*T_s - 1)**0.333333333333333,\n",
       "       1052.64092152652*(0.00307692307692308*T_s - 1)**0.333333333333333,\n",
       "       1058.01163143999*(0.00303030303030303*T_s - 1)**0.333333333333333],\n",
       "      dtype=object)"
      ]
     },
     "metadata": {},
     "output_type": "display_data"
    }
   ],
   "source": [
    "Nu_L = 0.15 * Ra_L**(1/3)\n",
    "display(Nu_L)\n",
    "# print('Nusselt Number =', Nu_L)"
   ]
  },
  {
   "cell_type": "code",
   "execution_count": 75,
   "id": "93f26975-f408-4760-9bc2-c57b98a0b115",
   "metadata": {},
   "outputs": [
    {
     "data": {
      "text/plain": [
       "array([11.3561897597655*(0.00333333333333333*T_s - 1)**0.333333333333333*(T_s - 300),\n",
       "       11.4189324129342*(0.00327868852459016*T_s - 1)**0.333333333333333*(T_s - 305),\n",
       "       11.4809930469819*(0.0032258064516129*T_s - 1)**0.333333333333333*(T_s - 310),\n",
       "       11.5423898991238*(0.00317460317460317*T_s - 1)**0.333333333333333*(T_s - 315),\n",
       "       11.6031404386125*(0.003125*T_s - 1)**0.333333333333333*(T_s - 320),\n",
       "       11.6632614105139*(0.00307692307692308*T_s - 1)**0.333333333333333*(T_s - 325),\n",
       "       11.7227688763551*(0.00303030303030303*T_s - 1)**0.333333333333333*(T_s - 330)],\n",
       "      dtype=object)"
      ]
     },
     "metadata": {},
     "output_type": "display_data"
    }
   ],
   "source": [
    "k = 27.7e-3\n",
    "h_t = k/L * Nu_L\n",
    "\n",
    "q_conv = h_t * delta_T # W/m^2\n",
    "display(q_conv)"
   ]
  },
  {
   "cell_type": "code",
   "execution_count": 77,
   "id": "2e6b1150-c4c5-4dd7-8d0a-ce2ad8f274d4",
   "metadata": {},
   "outputs": [
    {
     "data": {
      "text/plain": [
       "array([-157.41598441,   20.4719614 ,  207.32698859,  403.4454964 ,\n",
       "        609.12870359, -555.2903438 , -329.55480361])"
      ]
     },
     "metadata": {},
     "output_type": "display_data"
    }
   ],
   "source": [
    "sigma = 5.67e-8 # Stefan Boltzmann Constant\n",
    "epsilon = 0.85 # Absorbtivity of concrete\n",
    "E_b = sigma * T_oo**4 # W/m^2\n",
    "\n",
    "q_rad = E_b * epsilon / (1-epsilon) # W/m^2\n",
    "display(q_rad)"
   ]
  },
  {
   "cell_type": "code",
   "execution_count": 78,
   "id": "fa63d0e9-cd85-45d2-854b-43b21d685c50",
   "metadata": {},
   "outputs": [
    {
     "data": {
      "text/plain": [
       "array([11.3561897597655*(0.00333333333333333*T_s - 1)**0.333333333333333*(T_s - 300) - 157.4159844096,\n",
       "       11.4189324129342*(0.00327868852459016*T_s - 1)**0.333333333333333*(T_s - 305) + 20.4719614029,\n",
       "       11.4809930469819*(0.0032258064516129*T_s - 1)**0.333333333333333*(T_s - 310) + 207.3269885904,\n",
       "       11.5423898991238*(0.00317460317460317*T_s - 1)**0.333333333333333*(T_s - 315) + 403.4454964029,\n",
       "       11.6031404386125*(0.003125*T_s - 1)**0.333333333333333*(T_s - 320) + 609.1287035904,\n",
       "       11.6632614105139*(0.00307692307692308*T_s - 1)**0.333333333333333*(T_s - 325) - 555.2903438019,\n",
       "       11.7227688763551*(0.00303030303030303*T_s - 1)**0.333333333333333*(T_s - 330) - 329.5548036144],\n",
       "      dtype=object)"
      ]
     },
     "metadata": {},
     "output_type": "display_data"
    }
   ],
   "source": [
    "q_net = q_rad + q_conv # W/m^2\n",
    "display(q_net)"
   ]
  },
  {
   "cell_type": "code",
   "execution_count": 79,
   "id": "4c9c6fcb-7884-491b-a005-f3abba1d5e21",
   "metadata": {},
   "outputs": [
    {
     "name": "stdout",
     "output_type": "stream",
     "text": [
      "Net Resistance = 0.398 m^2*K/W\n"
     ]
    }
   ],
   "source": [
    "h_inside = 8.4 # W / (m^2 K)\n",
    "\n",
    "k_1 = 0.72 # Concrete\n",
    "k_2 = 0.71 # Brick\n",
    "k_3 = 0.731 # Lime\n",
    "\n",
    "L_1 = 0.05 # Concrete\n",
    "L_2 = 0.1 # Brick\n",
    "L_3 = 0.05 # Lime\n",
    "\n",
    "R = 1/h_inside + L_1/k_1 + L_2/k_2 + L_3/k_3 # K/W\n",
    "\n",
    "print(f\"Net Resistance = {round(R, 3)} m^2*K/W\")"
   ]
  },
  {
   "cell_type": "code",
   "execution_count": 82,
   "id": "1afae70f-7e6c-4ba5-9555-4a166b68717f",
   "metadata": {},
   "outputs": [
    {
     "data": {
      "text/latex": [
       "$\\displaystyle - 2.51422683603044 T_{s} + 11.3561897597655 \\left(0.00333333333333333 T_{s} - 1\\right)^{0.333333333333333} \\left(T_{s} - 300\\right) + 596.852066399533$"
      ],
      "text/plain": [
       "-2.51422683603044*T_s + 11.3561897597655*(0.00333333333333333*T_s - 1)**0.333333333333333*(T_s - 300) + 596.852066399533"
      ]
     },
     "metadata": {},
     "output_type": "display_data"
    }
   ],
   "source": [
    "T_inside = 300 # K, Constant temperature room \n",
    "\n",
    "# q_net = (T_s - T_inside) / R\n",
    "# q_net - (T_s - T_inside) / R = 0\n",
    "final_eqn = q_net - (T_s-T_inside)/R\n",
    "display(final_eqn[0])"
   ]
  },
  {
   "cell_type": "code",
   "execution_count": 110,
   "id": "2e4308ed-fbdf-4952-8f24-c44973b1c7cc",
   "metadata": {},
   "outputs": [
    {
     "data": {
      "text/plain": [
       "[344.824776346579]"
      ]
     },
     "metadata": {},
     "output_type": "display_data"
    },
    {
     "data": {
      "text/plain": [
       "[304.883193231439 - 5.27924392834988*I, 304.883193231439 + 5.27924392834988*I]"
      ]
     },
     "metadata": {},
     "output_type": "display_data"
    },
    {
     "data": {
      "text/plain": [
       "[289.685287978922 - 37.3029340997507*I, 289.685287978922 + 37.3029340997507*I]"
      ]
     },
     "metadata": {},
     "output_type": "display_data"
    },
    {
     "data": {
      "text/plain": [
       "[]"
      ]
     },
     "metadata": {},
     "output_type": "display_data"
    },
    {
     "data": {
      "text/plain": [
       "[269.327635783036 - 77.8473387883481*I, 269.327635783036 + 77.8473387883481*I]"
      ]
     },
     "metadata": {},
     "output_type": "display_data"
    },
    {
     "data": {
      "text/plain": [
       "[435.074290577927]"
      ]
     },
     "metadata": {},
     "output_type": "display_data"
    },
    {
     "data": {
      "text/plain": [
       "[412.929460187810]"
      ]
     },
     "metadata": {},
     "output_type": "display_data"
    }
   ],
   "source": [
    "n = len(final_eqn)\n",
    "for i in range(n):\n",
    "    display(sp.solve(final_eqn[i], T_s))"
   ]
  },
  {
   "cell_type": "markdown",
   "id": "3d6e8f82-9cdd-40ab-80f2-320156925468",
   "metadata": {},
   "source": [
    "References: Incorpera  \n",
    "eqns: pg 611, table 995"
   ]
  },
  {
   "cell_type": "code",
   "execution_count": null,
   "id": "c46bf83b-011d-4be7-99b4-b3c106769338",
   "metadata": {},
   "outputs": [],
   "source": []
  }
 ],
 "metadata": {
  "kernelspec": {
   "display_name": "Python 3",
   "language": "python",
   "name": "python3"
  },
  "language_info": {
   "codemirror_mode": {
    "name": "ipython",
    "version": 3
   },
   "file_extension": ".py",
   "mimetype": "text/x-python",
   "name": "python",
   "nbconvert_exporter": "python",
   "pygments_lexer": "ipython3",
   "version": "3.9.4"
  }
 },
 "nbformat": 4,
 "nbformat_minor": 5
}
