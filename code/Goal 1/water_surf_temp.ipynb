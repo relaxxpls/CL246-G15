{
 "cells": [
  {
   "cell_type": "markdown",
   "id": "194d358e-9729-483b-a6be-88d53558df5a",
   "metadata": {},
   "source": [
    "# Goal 1: Find $T_w$\n",
    "Solving attempt 2"
   ]
  },
  {
   "cell_type": "code",
   "execution_count": 1,
   "id": "swedish-artwork",
   "metadata": {},
   "outputs": [],
   "source": [
    "import sympy as sp\n",
    "import numpy as np\n",
    "import matplotlib.pyplot as plt"
   ]
  },
  {
   "cell_type": "markdown",
   "id": "respiratory-washer",
   "metadata": {},
   "source": [
    "### Initialize Values"
   ]
  },
  {
   "cell_type": "code",
   "execution_count": 2,
   "id": "entitled-revelation",
   "metadata": {},
   "outputs": [],
   "source": [
    "# dimensions\n",
    "L_w = 5\n",
    "\n",
    "# Saturation pressure of water p = R_1*T + R_2 with:\n",
    "R_1 = 325 \n",
    "R_2 = -5155\n",
    "\n",
    "gamma = 0.27 #\n",
    "epsilon_w = 0.95 # Emissivity of water surface\n",
    "sigma = 5.67e-8 # Stefan Boltzmann constant\n",
    "r = 0.1 # 10% Relative humidity assuming Delhi\n",
    "tau_1 = 0.2 # Water's solar absorbtivity\n",
    "S = 1366 # Solar constant\n",
    "g = 9.8 # Gravity!\n",
    "\n",
    "h_c = 19.1 # Assuming calm winds\n",
    "R_0 = 0.013 * h_c"
   ]
  },
  {
   "cell_type": "markdown",
   "id": "39b52a83-c921-47b8-abd1-5aa547558a0d",
   "metadata": {},
   "source": [
    "### Temp dependant values\n",
    "$T_a$ range taken as [280, 285, 290, 295, 300, 305, 310, 315, 320, 325, 330]  \n",
    "Conductivity of water ($k_w$), Density($\\rho$), Viscosity($\\mu$) and Prandtl Number($Pr$) at different $T_a$.  \n",
    "NOTE: Values taken from **Table A.6**:"
   ]
  },
  {
   "cell_type": "code",
   "execution_count": 3,
   "id": "known-saint",
   "metadata": {},
   "outputs": [
    {
     "name": "stdout",
     "output_type": "stream",
     "text": [
      "mu = [0.000959 0.000855 0.000769 0.000695 0.000631 0.000577 0.000528 0.000489]\n",
      "\n",
      "rho = [998.00399202 997.00897308 995.02487562 993.04865938 991.0802775\n",
      " 989.11968348 987.16683119 984.2519685 ]\n",
      "\n",
      "nu = mu/rho = [9.60918e-07 8.57565e-07 7.72845e-07 6.99865e-07 6.36679e-07 5.83347e-07\n",
      " 5.34864e-07 4.96824e-07]\n",
      "\n",
      "Pr = [6.62 5.83 5.2  4.62 4.16 3.77 3.42 3.15]\n",
      "\n",
      "k_w = [0.606 0.613 0.62  0.628 0.634 0.64  0.645 0.65 ]\n"
     ]
    }
   ],
   "source": [
    "# T = temperature\n",
    "T_a = np.array([295, 300, 305, 310, 315, 320, 325, 330]) # unit K\n",
    "\n",
    "# mu * 1e-6 = viscosity, rho * 1e3 = density\n",
    "mu = 1e-6 * np.array([959, 855, 769, 695, 631, 577, 528, 489])\n",
    "print(\"mu =\", mu)\n",
    "rho = 1000/np.array([1.002, 1.003, 1.005, 1.007, 1.009, 1.011, 1.013, 1.016])\n",
    "print(\"\\nrho =\", rho)\n",
    "\n",
    "nu = mu/rho # unit m^2/s\n",
    "print(\"\\nnu = mu/rho =\", nu)\n",
    "\n",
    "Pr = np.array([6.62, 5.83, 5.20, 4.62, 4.16, 3.77, 3.42, 3.15])\n",
    "print(\"\\nPr =\", Pr)\n",
    "\n",
    "k_w = 1e-3 * np.array([606, 613, 620, 628, 634, 640, 645, 650])\n",
    "print(\"\\nk_w =\", k_w)"
   ]
  },
  {
   "cell_type": "markdown",
   "id": "44387009-f3b6-4350-b32a-872109fd60e9",
   "metadata": {},
   "source": [
    "### Equations"
   ]
  },
  {
   "cell_type": "code",
   "execution_count": 8,
   "id": "8158fd79-8be0-4167-a7a7-c4d4e793f699",
   "metadata": {},
   "outputs": [
    {
     "data": {
      "text/latex": [
       "$\\displaystyle \\frac{13487.243725 + \\frac{295 \\left(5.3865 \\cdot 10^{-8} T_{w}^{4} - 114.155050865625\\right)}{T_{w} - 295}}{99.7975 + \\frac{5.3865 \\cdot 10^{-8} T_{w}^{4} - 114.155050865625}{T_{w} - 295}}$"
      ],
      "text/plain": [
       "(13487.243725 + 295*(5.3865e-8*T_w**4 - 114.155050865625)/(T_w - 295))/(99.7975 + (5.3865e-8*T_w**4 - 114.155050865625)/(T_w - 295))"
      ]
     },
     "metadata": {},
     "output_type": "display_data"
    }
   ],
   "source": [
    "T_w = sp.symbols('T_w')\n",
    "\n",
    "# Use temp in K instead of °C:\n",
    "# h_r = 5.3865e-8 * ((T_w + 273.15)**4 - (T_a + 261.15)**4)/(T_w - T_a)\n",
    "h_r = 5.3865e-8 * ((T_w)**4 - (T_a - 12)**4)/(T_w - T_a)\n",
    "H = h_r + h_c + R_0*R_1\n",
    "H_1 = h_r + h_c + gamma*R_0*R_1\n",
    "\n",
    "T_s = (tau_1 * S + H_1*T_a - R_0*R_2*(1-r))/H\n",
    "display(T_s[0])"
   ]
  },
  {
   "cell_type": "code",
   "execution_count": 5,
   "id": "native-poetry",
   "metadata": {},
   "outputs": [
    {
     "data": {
      "text/latex": [
       "$\\displaystyle 4497191853858.41 T_{w} - 1.32667159688823 \\cdot 10^{15}$"
      ],
      "text/plain": [
       "4497191853858.41*T_w - 1.32667159688823e+15"
      ]
     },
     "metadata": {},
     "output_type": "display_data"
    },
    {
     "data": {
      "text/latex": [
       "$\\displaystyle 1733084.5858562 \\left(0.00338983050847458 T_{w} - 1\\right)^{0.333333333333333}$"
      ],
      "text/plain": [
       "1733084.5858562*(0.00338983050847458*T_w - 1)**0.333333333333333"
      ]
     },
     "metadata": {},
     "output_type": "display_data"
    }
   ],
   "source": [
    "Gr = 1225 * (T_w/T_a - 1) * nu**-2\n",
    "display(Gr[0])\n",
    "\n",
    "h_1 = 8.4 * pow(Gr*Pr, 1/3)\n",
    "display(h_1[0])"
   ]
  },
  {
   "cell_type": "code",
   "execution_count": 6,
   "id": "massive-boston",
   "metadata": {},
   "outputs": [
    {
     "name": "stdout",
     "output_type": "stream",
     "text": [
      "h_1 =  445180.113392797\n",
      "H =  164.227789826875\n"
     ]
    }
   ],
   "source": [
    "# Example: Assume T_w = 300 and T_a = 295\n",
    "print(\"h_1 = \", h_1[0].replace(T_w, 300))\n",
    "print(\"H = \", H[0].replace(T_w, 300))"
   ]
  },
  {
   "cell_type": "markdown",
   "id": "f95a056e-7b33-4e92-b3e5-95651e4d2fb7",
   "metadata": {},
   "source": [
    "### Finally solving for $T_w$"
   ]
  },
  {
   "cell_type": "code",
   "execution_count": 7,
   "id": "04e9ec92-710c-4444-93e9-43cb7b056956",
   "metadata": {},
   "outputs": [
    {
     "data": {
      "text/latex": [
       "$\\displaystyle \\theta_{1}$"
      ],
      "text/plain": [
       "theta_1"
      ]
     },
     "metadata": {},
     "output_type": "display_data"
    },
    {
     "data": {
      "text/latex": [
       "$\\displaystyle \\frac{1733084.5858562 \\theta_{1} \\left(0.00338983050847458 T_{w} - 1\\right)^{0.333333333333333} + 13487.243725 + \\frac{295 \\left(5.3865 \\cdot 10^{-8} T_{w}^{4} - 114.155050865625\\right)}{T_{w} - 295}}{1733084.5858562 \\left(0.00338983050847458 T_{w} - 1\\right)^{0.333333333333333} + 99.7975 + \\frac{5.3865 \\cdot 10^{-8} T_{w}^{4} - 114.155050865625}{T_{w} - 295}}$"
      ],
      "text/plain": [
       "(1733084.5858562*theta_1*(0.00338983050847458*T_w - 1)**0.333333333333333 + 13487.243725 + 295*(5.3865e-8*T_w**4 - 114.155050865625)/(T_w - 295))/(1733084.5858562*(0.00338983050847458*T_w - 1)**0.333333333333333 + 99.7975 + (5.3865e-8*T_w**4 - 114.155050865625)/(T_w - 295))"
      ]
     },
     "metadata": {},
     "output_type": "display_data"
    }
   ],
   "source": [
    "theta_1 = sp.symbols('theta_1')\n",
    "lhs = (H*T_s + h_1*theta_1)/(H + h_1)\n",
    "display(theta_1, lhs[0])\n",
    "\n",
    "# exp = sp.Eq(T_w, H[0])\n",
    "# display(exp, H[0]*T)"
   ]
  },
  {
   "cell_type": "code",
   "execution_count": null,
   "id": "f34ead62-302f-4a0a-97c8-e0967f66f299",
   "metadata": {},
   "outputs": [],
   "source": []
  }
 ],
 "metadata": {
  "kernelspec": {
   "display_name": "Python 3",
   "language": "python",
   "name": "python3"
  },
  "language_info": {
   "codemirror_mode": {
    "name": "ipython",
    "version": 3
   },
   "file_extension": ".py",
   "mimetype": "text/x-python",
   "name": "python",
   "nbconvert_exporter": "python",
   "pygments_lexer": "ipython3",
   "version": "3.9.4"
  }
 },
 "nbformat": 4,
 "nbformat_minor": 5
}
