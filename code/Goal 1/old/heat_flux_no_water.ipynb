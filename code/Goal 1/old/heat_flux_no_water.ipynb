{
 "cells": [
  {
   "cell_type": "markdown",
   "id": "cdb4cba1-d7fb-48ef-b2ec-6dba72ba5385",
   "metadata": {},
   "source": [
    "# Goal 2: Calculate $R_{net}$ & $\\dot{q}_x$ *(No Water Layer)*"
   ]
  },
  {
   "cell_type": "code",
   "execution_count": 1,
   "id": "8d71d3c3-2a8d-4b20-963b-fa81f0156184",
   "metadata": {},
   "outputs": [],
   "source": [
    "import sympy as sp\n",
    "import numpy as np"
   ]
  },
  {
   "cell_type": "code",
   "execution_count": 2,
   "id": "a0066d11-e88f-42b1-8c37-0a23e737345b",
   "metadata": {},
   "outputs": [
    {
     "name": "stdout",
     "output_type": "stream",
     "text": [
      "Net Resistance = 0.181 m^2*K/W\n"
     ]
    }
   ],
   "source": [
    "h_o = 22.78 # wrt avg wind velocity of 10.2 km/h\n",
    "h_i = 8.4\n",
    "\n",
    "k_1 = 0.72 # Concrete\n",
    "k_2 = 0.71 # Brick\n",
    "k_3 = 0.731 # Lime\n",
    "\n",
    "L_1 = 0.05 # Concrete\n",
    "L_2 = 0.1 # Brick\n",
    "L_3 = 0.05 # Lime\n",
    "A = 15.43\n",
    "\n",
    "R = 1/h_o + (1/A) * (L_1/k_1 + L_2/k_2 + L_3/k_3) + 1/h_i\n",
    "\n",
    "print(f\"Net Resistance = {round(R, 3)} m^2*K/W\")"
   ]
  },
  {
   "cell_type": "code",
   "execution_count": 4,
   "id": "93f26975-f408-4760-9bc2-c57b98a0b115",
   "metadata": {},
   "outputs": [
    {
     "data": {
      "text/plain": [
       "array([-27.62319885,   0.        ,  27.62319885,  55.2463977 ,\n",
       "        82.86959655, 110.4927954 , 138.11599424, 165.73919309])"
      ]
     },
     "execution_count": 4,
     "metadata": {},
     "output_type": "execute_result"
    }
   ],
   "source": [
    "T_a = np.array([295, 300, 305, 310, 315, 320, 325, 330]) # unit K\n",
    "T_r = 300 # Assuming 27°C\n",
    "\n",
    "q_x = (T_a - T_r)/R\n",
    "q_x"
   ]
  }
 ],
 "metadata": {
  "kernelspec": {
   "display_name": "Python 3",
   "language": "python",
   "name": "python3"
  },
  "language_info": {
   "codemirror_mode": {
    "name": "ipython",
    "version": 3
   },
   "file_extension": ".py",
   "mimetype": "text/x-python",
   "name": "python",
   "nbconvert_exporter": "python",
   "pygments_lexer": "ipython3",
   "version": "3.9.4"
  }
 },
 "nbformat": 4,
 "nbformat_minor": 5
}
