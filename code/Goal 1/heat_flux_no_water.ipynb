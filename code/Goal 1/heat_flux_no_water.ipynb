{
 "cells": [
  {
   "cell_type": "markdown",
   "id": "cdb4cba1-d7fb-48ef-b2ec-6dba72ba5385",
   "metadata": {},
   "source": [
    "# (Attempt 3) Goal 2: No Water Layer"
   ]
  },
  {
   "cell_type": "code",
   "execution_count": 1,
   "id": "8d71d3c3-2a8d-4b20-963b-fa81f0156184",
   "metadata": {},
   "outputs": [],
   "source": [
    "import sympy as sp\n",
    "import numpy as np"
   ]
  },
  {
   "cell_type": "markdown",
   "id": "af820895-80c4-498c-8013-1d3eb85aab7e",
   "metadata": {},
   "source": [
    "## **Initialize Values**"
   ]
  },
  {
   "cell_type": "markdown",
   "id": "750ef87b-3179-4564-a2ba-357a85e38e3d",
   "metadata": {},
   "source": [
    "### Outside Air:"
   ]
  },
  {
   "cell_type": "code",
   "execution_count": 2,
   "id": "3de1654f-8728-4653-8d29-7fa61fb35518",
   "metadata": {},
   "outputs": [
    {
     "data": {
      "text/plain": [
       "array([1063368055.55556*T_s - 319010416666.667,\n",
       "       1063368055.55556*T_s - 324327256944.444,\n",
       "       1063368055.55556*T_s - 329644097222.222,\n",
       "       1063368055.55556*T_s - 334960937500.0,\n",
       "       1063368055.55556*T_s - 340277777777.778,\n",
       "       1063368055.55556*T_s - 345594618055.556,\n",
       "       1063368055.55556*T_s - 350911458333.333], dtype=object)"
      ]
     },
     "metadata": {},
     "output_type": "display_data"
    }
   ],
   "source": [
    "T_oo = np.array([300.0, 305.0, 310.0, 315.0, 320.0, 325.0, 330.0]) # T_oo\n",
    "T_s = sp.symbols('T_s')\n",
    "\n",
    "delta_T = T_s - T_oo\n",
    "\n",
    "#T_f = (T_oo + T_s) / 2\n",
    "T_f = 320.0\n",
    "beta = 1/T_f\n",
    "\n",
    "L = 2.5 # Independant of length\n",
    "g = 9.8\n",
    "\n",
    "nu = 18e-6\n",
    "alpha = 25e-6\n",
    "\n",
    "Ra_L = (g * beta * delta_T * L**3) / (nu * alpha)\n",
    "display(Ra_L)\n",
    "# print('Raleigh Number =', Ra_L)"
   ]
  },
  {
   "cell_type": "markdown",
   "id": "840531ec-5848-44cc-b46d-30349bb4f5ba",
   "metadata": {},
   "source": [
    "### Roof layers:"
   ]
  },
  {
   "cell_type": "code",
   "execution_count": 5,
   "id": "dde5ccba-2ef7-4ef5-84fc-19a2de97b3e1",
   "metadata": {},
   "outputs": [],
   "source": [
    "k_1 = 0.72 # Concrete\n",
    "k_2 = 0.71 # Brick\n",
    "k_3 = 0.73 # Lime\n",
    "\n",
    "L_1 = 0.05 # Concrete\n",
    "L_2 = 0.10 # Brick\n",
    "L_3 = 0.05 # Lime"
   ]
  },
  {
   "cell_type": "code",
   "execution_count": 3,
   "id": "a0066d11-e88f-42b1-8c37-0a23e737345b",
   "metadata": {},
   "outputs": [
    {
     "data": {
      "text/plain": [
       "array([1024.92687362504*(0.00333333333333333*T_s - 1)**0.333333333333333,\n",
       "       1030.58956795435*(0.00327868852459016*T_s - 1)**0.333333333333333,\n",
       "       1036.19070821137*(0.0032258064516129*T_s - 1)**0.333333333333333,\n",
       "       1041.73194035413*(0.00317460317460317*T_s - 1)**0.333333333333333,\n",
       "       1047.21484103001*(0.003125*T_s - 1)**0.333333333333333,\n",
       "       1052.64092152652*(0.00307692307692308*T_s - 1)**0.333333333333333,\n",
       "       1058.01163143999*(0.00303030303030303*T_s - 1)**0.333333333333333],\n",
       "      dtype=object)"
      ]
     },
     "metadata": {},
     "output_type": "display_data"
    }
   ],
   "source": [
    "Nu_L = 0.15 * Ra_L**(1/3)\n",
    "display(Nu_L)\n",
    "# print('Nusselt Number =', Nu_L)"
   ]
  },
  {
   "cell_type": "code",
   "execution_count": 4,
   "id": "93f26975-f408-4760-9bc2-c57b98a0b115",
   "metadata": {},
   "outputs": [
    {
     "data": {
      "text/plain": [
       "array([11.3561897597655*(0.00333333333333333*T_s - 1)**0.333333333333333*(T_s - 300.0),\n",
       "       11.4189324129342*(0.00327868852459016*T_s - 1)**0.333333333333333*(T_s - 305.0),\n",
       "       11.4809930469819*(0.0032258064516129*T_s - 1)**0.333333333333333*(T_s - 310.0),\n",
       "       11.5423898991238*(0.00317460317460317*T_s - 1)**0.333333333333333*(T_s - 315.0),\n",
       "       11.6031404386125*(0.003125*T_s - 1)**0.333333333333333*(T_s - 320.0),\n",
       "       11.6632614105139*(0.00307692307692308*T_s - 1)**0.333333333333333*(T_s - 325.0),\n",
       "       11.7227688763551*(0.00303030303030303*T_s - 1)**0.333333333333333*(T_s - 330.0)],\n",
       "      dtype=object)"
      ]
     },
     "metadata": {},
     "output_type": "display_data"
    }
   ],
   "source": [
    "k = 27.7e-3\n",
    "h_t = k/L * Nu_L\n",
    "\n",
    "q_conv = h_t * delta_T # W / m^2\n",
    "display(q_conv)"
   ]
  },
  {
   "cell_type": "code",
   "execution_count": 5,
   "id": "2e6b1150-c4c5-4dd7-8d0a-ce2ad8f274d4",
   "metadata": {},
   "outputs": [
    {
     "data": {
      "text/plain": [
       "array([2602.53      , 2780.41794581, 2967.272973  , 3163.39148081,\n",
       "       3369.074688  , 3584.62863281, 3810.364173  ])"
      ]
     },
     "metadata": {},
     "output_type": "display_data"
    }
   ],
   "source": [
    "sigma = 5.67e-8 # Stefan Boltzmann Constant\n",
    "epsilon = 0.85 # Absorbtivity of concrete\n",
    "E_b = sigma * T_oo**4 # W/m^2\n",
    "\n",
    "q_rad = E_b * epsilon / (1-epsilon) # W/m^2\n",
    "display(q_rad)"
   ]
  },
  {
   "cell_type": "code",
   "execution_count": 6,
   "id": "fa63d0e9-cd85-45d2-854b-43b21d685c50",
   "metadata": {},
   "outputs": [
    {
     "data": {
      "text/plain": [
       "array([11.3561897597655*(0.00333333333333333*T_s - 1)**0.333333333333333*(T_s - 300.0) + 2602.53,\n",
       "       11.4189324129342*(0.00327868852459016*T_s - 1)**0.333333333333333*(T_s - 305.0) + 2780.4179458125,\n",
       "       11.4809930469819*(0.0032258064516129*T_s - 1)**0.333333333333333*(T_s - 310.0) + 2967.272973,\n",
       "       11.5423898991238*(0.00317460317460317*T_s - 1)**0.333333333333333*(T_s - 315.0) + 3163.3914808125,\n",
       "       11.6031404386125*(0.003125*T_s - 1)**0.333333333333333*(T_s - 320.0) + 3369.074688,\n",
       "       11.6632614105139*(0.00307692307692308*T_s - 1)**0.333333333333333*(T_s - 325.0) + 3584.6286328125,\n",
       "       11.7227688763551*(0.00303030303030303*T_s - 1)**0.333333333333333*(T_s - 330.0) + 3810.364173],\n",
       "      dtype=object)"
      ]
     },
     "metadata": {},
     "output_type": "display_data"
    }
   ],
   "source": [
    "q_net = q_rad + q_conv # W/m^2\n",
    "display(q_net)"
   ]
  },
  {
   "cell_type": "code",
   "execution_count": 7,
   "id": "4c9c6fcb-7884-491b-a005-f3abba1d5e21",
   "metadata": {},
   "outputs": [
    {
     "name": "stdout",
     "output_type": "stream",
     "text": [
      "Net Resistance = 0.398 m^2*K/W\n"
     ]
    }
   ],
   "source": [
    "R = 1/h_r + L_1/k_1 + L_2/k_2 + L_3/k_3 # K/W\n",
    "\n",
    "print(f\"Net Resistance = {round(R, 3)} m^2*K/W\")"
   ]
  },
  {
   "cell_type": "code",
   "execution_count": 8,
   "id": "1afae70f-7e6c-4ba5-9555-4a166b68717f",
   "metadata": {},
   "outputs": [
    {
     "data": {
      "text/latex": [
       "$\\displaystyle - 2.51363467968919 T_{s} + 11.3561897597655 \\left(0.00333333333333333 T_{s} - 1\\right)^{0.333333333333333} \\left(T_{s} - 300.0\\right) + 3356.62040390676$"
      ],
      "text/plain": [
       "-2.51363467968919*T_s + 11.3561897597655*(0.00333333333333333*T_s - 1)**0.333333333333333*(T_s - 300.0) + 3356.62040390676"
      ]
     },
     "metadata": {},
     "output_type": "display_data"
    }
   ],
   "source": [
    "T_r = 300 # K, Constant temperature room \n",
    "\n",
    "# q_net = (T_s - T_r) / R\n",
    "# q_net - (T_s - T_r) / R = 0\n",
    "final_eqn = q_net - (T_s-T_r)/R\n",
    "display(final_eqn[0])"
   ]
  },
  {
   "cell_type": "code",
   "execution_count": 9,
   "id": "2e4308ed-fbdf-4952-8f24-c44973b1c7cc",
   "metadata": {},
   "outputs": [
    {
     "data": {
      "text/plain": [
       "[132.093479425268 - 221.349316461391*I, 132.093479425268 + 221.349316461391*I]"
      ]
     },
     "metadata": {},
     "output_type": "display_data"
    },
    {
     "data": {
      "text/plain": [
       "[128.969059542158 - 230.976564098072*I, 128.969059542158 + 230.976564098072*I]"
      ]
     },
     "metadata": {},
     "output_type": "display_data"
    },
    {
     "data": {
      "text/plain": [
       "[]"
      ]
     },
     "metadata": {},
     "output_type": "display_data"
    },
    {
     "data": {
      "text/plain": [
       "[121.778583394725 - 251.266583754658*I, 121.778583394725 + 251.266583754658*I]"
      ]
     },
     "metadata": {},
     "output_type": "display_data"
    },
    {
     "data": {
      "text/plain": [
       "[117.704400726045 - 261.936533418232*I, 117.704400726045 + 261.936533418232*I]"
      ]
     },
     "metadata": {},
     "output_type": "display_data"
    },
    {
     "data": {
      "text/plain": [
       "[113.305452677038 - 272.961334768938*I, 113.305452677038 + 272.961334768938*I]"
      ]
     },
     "metadata": {},
     "output_type": "display_data"
    },
    {
     "data": {
      "text/plain": [
       "[]"
      ]
     },
     "metadata": {},
     "output_type": "display_data"
    }
   ],
   "source": [
    "n = len(final_eqn)\n",
    "for i in range(n):\n",
    "    display(sp.solve(final_eqn[i], T_s))"
   ]
  },
  {
   "cell_type": "markdown",
   "id": "3d6e8f82-9cdd-40ab-80f2-320156925468",
   "metadata": {},
   "source": [
    "References: Incorpera  \n",
    "eqns: pg 611, table 995"
   ]
  },
  {
   "cell_type": "code",
   "execution_count": null,
   "id": "c46bf83b-011d-4be7-99b4-b3c106769338",
   "metadata": {},
   "outputs": [],
   "source": []
  }
 ],
 "metadata": {
  "kernelspec": {
   "display_name": "Python 3",
   "language": "python",
   "name": "python3"
  },
  "language_info": {
   "codemirror_mode": {
    "name": "ipython",
    "version": 3
   },
   "file_extension": ".py",
   "mimetype": "text/x-python",
   "name": "python",
   "nbconvert_exporter": "python",
   "pygments_lexer": "ipython3",
   "version": "3.9.4"
  }
 },
 "nbformat": 4,
 "nbformat_minor": 5
}
