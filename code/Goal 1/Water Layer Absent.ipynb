{
 "cells": [
  {
   "cell_type": "markdown",
   "id": "cc9b2bdb-bfcc-4a65-96f0-0a0a79276167",
   "metadata": {},
   "source": [
    "# Case 1: No Water Layer\n",
    "\n",
    "* Author: **Team G15**\n",
    "* Attempt: 3"
   ]
  },
  {
   "cell_type": "markdown",
   "id": "d10384cf-b923-4f71-b572-8dcbd744804c",
   "metadata": {},
   "source": [
    "## Analysis"
   ]
  },
  {
   "cell_type": "markdown",
   "id": "bf1a23a8-abdd-4178-bcc6-3eb9cde0b2af",
   "metadata": {},
   "source": [
    "### To find\n",
    "\n",
    "1. Temperature of Roof Surface $(T_s)$\n",
    "2. Total heat flux entering the house through the roof, $(q_t)$ when no water layer is present"
   ]
  },
  {
   "cell_type": "markdown",
   "id": "f417924c-99c5-4f8f-9e12-b8522c4521cf",
   "metadata": {},
   "source": [
    "### Nomenclature\n",
    "\n",
    "* $T_s$ = roof surface temperature (outside)\n",
    "* $T_a$ = ambient air temperature (outside)\n",
    "* $T_r$ = room temperature (inside)\n",
    "* $Nu_a$ = Nusselt number of air\n",
    "* $Ra_a$ = Rayleigh number of air\n",
    "* $Re_a$ = Reynolds number of air\n",
    "* $Pr_a$ = Prandtl number of air\n",
    "* $\\alpha_a$ = thermal diffusivity of air\n",
    "* $k_a$ = thermal conductivity of air\n",
    "* $h_r$ = free convection coefficient of room air\n",
    "* $\\nu_a$ = dynamic Viscosity of air\n",
    "* Roof layers:\n",
    "  * 1: Concrete\n",
    "  * 2: Brick\n",
    "  * 3: Lime\n",
    "* $k_i$ = thermal conductivity of $i^{th}$ roof layer\n",
    "* $L_i$ = length of $i^{th}$ roof layer\n",
    "* $q_{r}$ = radiative heat transfer (per unit area)\n",
    "* $q_{c}$ = convective heat transfer (per unit area)\n",
    "* $q_{t}$ = net heat transfer into the room (per unit area)\n",
    "* $\\beta$ = coefficient of thermal expansion\n",
    "* $S$ = Intensity of Solar Radiation (i.e. solar constant)\n"
   ]
  },
  {
   "cell_type": "markdown",
   "id": "a032b74d-a680-47ea-a5ce-6c14d5a94d25",
   "metadata": {},
   "source": [
    "### Assumptions\n",
    "\n",
    "* Steady state with room maintained at fixed ambient temperature"
   ]
  },
  {
   "cell_type": "markdown",
   "id": "d7802fec-fb19-4856-92a1-6ef89aed8482",
   "metadata": {},
   "source": [
    "### Equations\n",
    "\n",
    "#### Energy balance,\n",
    "\n",
    "$$ q_t = q_c + q_r $$\n",
    "\n",
    "#### Radiation heat transfer,\n",
    "\n",
    "\\begin{align*}\n",
    "  q_r &= \\tau_s\\cdot S - h_r \\cdot (T_a - T_s) \\\\\n",
    "\\\\\n",
    "  h_r &= \\epsilon_s\\cdot \\sigma\\cdot \\frac{(\\overline T_s)^4 - (\\overline T_a - 12)^4}{\\overline T_a - \\overline T_s}\n",
    "\\end{align*}\n",
    "\n",
    "#### Convection heat transfer,\n",
    "\n",
    "\\begin{align*}\n",
    "  q_c &= h_c\\cdot (T_a - T_w) \\\\\n",
    "\\\\\n",
    "  h_c  &= \\frac{k_a}{L_s}\\cdot Nu_a \\\\\n",
    "\\\\\n",
    "  Nu_a &= 0.15\\cdot Ra_a^{1/3} + 0.664\\cdot Re_a^{1/2}\\cdot Pr_a^{1/3} \\\\\n",
    "\\\\\n",
    "  Re_a &= \\frac{v_a\\cdot L_s}{\\nu_a} \\\\\n",
    "\\\\\n",
    "  Ra_L &= \\frac{g\\cdot \\beta\\cdot (T_s - T_a)\\cdot L_s^3}{\\nu_a\\cdot \\alpha_a}\n",
    "\\end{align*}\n",
    "\n",
    "#### Total heat transfer,\n",
    "\n",
    "\\begin{align*}\n",
    "  q_t &= \\frac{T_w - T_r}{R_{net}} \\\\\n",
    "\\\\\n",
    "  R_{net} &= \\frac{1}{h_r} + \\sum_{i=1}^{3} \\frac{L_i}{k_i}\n",
    "\\end{align*}\n"
   ]
  },
  {
   "cell_type": "markdown",
   "id": "5a7c9181-06c9-44d1-be13-9d7e20abee1e",
   "metadata": {},
   "source": [
    "### Properties\n",
    "\n",
    "#### Outside Air\n",
    "\n",
    "* Mild breeze $v_a = 2.78\\ m/s$\n",
    "* $T_a \\in [305, 320] K$\n",
    "* $T_f = 320K$\n",
    "* $\\beta = \\frac{1}{T_f} = 0.0031\\ K^{-1}$\n",
    "* Table A.4, air ($T_f$):\n",
    "  * $\\nu = 18 \\cdot 10^{-6}\\ m^2/s$\n",
    "  * $\\alpha = 25 \\cdot 10^{-6}\\ m^2/s$\n",
    "  * $Pr = 0.702$\n",
    "  * $k = 27.7 \\cdot 10^{-3}\\ W/m\\cdot K$\n",
    "* $S = 1366\\ W/m^2$\n",
    "\n",
    "#### Roof\n",
    "\n",
    "* $L_s = 5\\ m$ (approx thickness of water layer)\n",
    "* $\\epsilon_s = 0.9$ (concrete surface)\n",
    "* $\\tau_s=0.9$\n",
    "* $t = 0.2\\ m$ thick with,\n",
    "  * Cement = $5\\ cm$\n",
    "  * Brick = $10\\ cm$\n",
    "  * Lime = $5\\ cm$\n",
    "* $K_i$, Conductivity of each layer,\n",
    "  * Cement = $0.72\\ W/m\\cdot K$\n",
    "  * Brick = $0.71\\ W/m\\cdot K$\n",
    "  * Lime = $0.73\\ W/m\\cdot K$\n",
    "\n",
    "#### Inside air\n",
    "\n",
    "* $T_r = 300K$ (Room Temperature)\n",
    "* $h_r = 8.4\\ W/m^2\\cdot K$\n"
   ]
  },
  {
   "cell_type": "markdown",
   "id": "59158889-c28c-4443-bcbf-60c41cf6f963",
   "metadata": {},
   "source": [
    "### Tools used\n",
    "\n",
    "* **Python**\n",
    "* **SymPy** for creating symbolic equations and solving them\n",
    "* **NumPy**\n",
    "* **Matplotlib** for plotting results"
   ]
  },
  {
   "cell_type": "markdown",
   "id": "b7537ef2-a7d1-423c-9a1a-cbf7051dd59a",
   "metadata": {},
   "source": [
    "## Solving (Python Code)"
   ]
  },
  {
   "cell_type": "markdown",
   "id": "8b3de4f9-4ae3-482e-b758-3916366e2219",
   "metadata": {},
   "source": [
    "### Initialize Values"
   ]
  },
  {
   "cell_type": "code",
   "execution_count": 1,
   "id": "ebb2c4f4-f8f2-4d9d-8545-68e5c1d7102d",
   "metadata": {},
   "outputs": [],
   "source": [
    "import sympy as sp\n",
    "import numpy as np"
   ]
  },
  {
   "cell_type": "markdown",
   "id": "d4187bf9-6d52-4188-a1d2-94e909ca5b82",
   "metadata": {},
   "source": [
    "#### Outside Air\n",
    "\n",
    "* Table A.4 used (from reference #2)"
   ]
  },
  {
   "cell_type": "code",
   "execution_count": 2,
   "id": "7618892c-3b32-4f1d-a001-74ec1794ea2f",
   "metadata": {},
   "outputs": [],
   "source": [
    "v_a = 2.78 # Velocity (m / s)\n",
    "\n",
    "# Temperatures\n",
    "T_f = 320.0 # (K)\n",
    "beta = 1/T_f # (K)\n",
    "T_a = np.array([305.0, 310.0, 315.0, 320.0]) # (K)\n",
    "T_a_avg = 273 + 37 # (K)\n",
    "\n",
    "# Universal Constants\n",
    "sigma = 5.67e-8 # Stefan Boltzmann constant (W / m^2 * K^4)\n",
    "g = 9.8 # (m^2 / s)\n",
    "S = 1366 # Solar constant\n",
    "\n",
    "# Table A.6, air @ T = T_f\n",
    "nu_a = 18e-6 # dynamic visosity (m^2 / s)\n",
    "alpha_a = 25e-6 # (m^2 / s)\n",
    "k_a = 27.7e-3 # thermal conductivity (W / m * K)\n",
    "Pr_a = 0.702"
   ]
  },
  {
   "cell_type": "markdown",
   "id": "f7d1ce68-5405-48dd-94ae-015802ed7abf",
   "metadata": {},
   "source": [
    "#### Roof Layers"
   ]
  },
  {
   "cell_type": "code",
   "execution_count": 3,
   "id": "e72b3d12-f24e-4450-90c1-7008d8d0aa19",
   "metadata": {},
   "outputs": [],
   "source": [
    "# Temperatures\n",
    "T_s = sp.symbols('T_s') # Roof surface temp (K)\n",
    "T_s_avg = 273.0 + 35.0 # (K)\n",
    "\n",
    "# Surface\n",
    "L_s = 5 # Dimensions (m)\n",
    "tau_s = 0.9 # Roof's solar absorbtivity\n",
    "epsilon_s = 0.9 # Emissivity of roof surface (concrete)\n",
    "\n",
    "# Layer 1: Concrete\n",
    "k_1 = 0.72 # (W / m * K)\n",
    "L_1 = 0.05 # (m)\n",
    "\n",
    "# Layer 2: Brick\n",
    "k_2 = 0.71 # (W / m * K)\n",
    "L_2 = 0.10 # (m)\n",
    "\n",
    "# Layer 3: Lime\n",
    "k_3 = 0.73 # (W / m * K)\n",
    "L_3 = 0.05 # (m)"
   ]
  },
  {
   "cell_type": "markdown",
   "id": "4455fa9e-52a6-4f1c-8aea-4827b36dc8ac",
   "metadata": {},
   "source": [
    "#### Inside Air"
   ]
  },
  {
   "cell_type": "code",
   "execution_count": 4,
   "id": "c29b0507-0af5-42a8-835b-2d9df5542eff",
   "metadata": {},
   "outputs": [],
   "source": [
    "h_r = 8.4 # (W / m^2 * K)\n",
    "T_r = 300 # (K)"
   ]
  },
  {
   "cell_type": "markdown",
   "id": "ab3c3ed5-446b-4fc4-bb8c-556ea13223ff",
   "metadata": {},
   "source": [
    "### Equations"
   ]
  },
  {
   "cell_type": "markdown",
   "id": "a3a7d13f-f337-47b0-86c5-609d168ab130",
   "metadata": {},
   "source": [
    "#### Radiation Heat"
   ]
  },
  {
   "cell_type": "code",
   "execution_count": 5,
   "id": "8a898df3-3639-4825-8e16-c3f66562aa19",
   "metadata": {
    "tags": []
   },
   "outputs": [
    {
     "name": "stdout",
     "output_type": "stream",
     "text": [
      "Approximate value of q_r = 1172.60 W/m^2\n"
     ]
    }
   ],
   "source": [
    "h_r = epsilon_s * sigma * (T_s_avg**4 - (T_a_avg - 12)**4)/(T_a_avg - T_s_avg) # (W / m^2 * K)\n",
    "q_r = tau_s * S - h_r * (T_a - T_s) # (W / m^2)\n",
    "\n",
    "# Example at T_a = 310K and T_s = 308K\n",
    "q_r_test = q_r[1].replace(T_s, 308)\n",
    "print('Approximate value of q_r = %.2f W/m^2' % (q_r_test))"
   ]
  },
  {
   "cell_type": "markdown",
   "id": "0e0d7e97-89e6-4fb7-aca9-1ef08a5c0c81",
   "metadata": {},
   "source": [
    "#### Convection Heat\n",
    "\n",
    "* From below analysis, we can neglect free convection in comparison to forced convection"
   ]
  },
  {
   "cell_type": "markdown",
   "id": "74a68aff-0bff-470d-8fa7-a22202e9c07d",
   "metadata": {},
   "source": [
    "##### Free Convection"
   ]
  },
  {
   "cell_type": "code",
   "execution_count": 6,
   "id": "6fc503bb-d94d-4d8a-8244-ce9d1be31202",
   "metadata": {},
   "outputs": [
    {
     "name": "stdout",
     "output_type": "stream",
     "text": [
      "Approximate value of free convection coefficient = 2.14 W/K*m^2\n"
     ]
    }
   ],
   "source": [
    "Ra_a = (g * beta * (T_a - T_s) * L_s**3) / (nu_a * alpha_a)\n",
    "Nu_a_fr = 0.15 * Ra_a**(1/3)\n",
    "h_c_fr = k_a / L_s * Nu_a_fr\n",
    "\n",
    "# Example at T_a = 310K and T_s = 308K\n",
    "h_c_fr_test = h_c_fr[1].replace(T_s, 308)\n",
    "print('Approximate value of free convection coefficient = %.2f W/K*m^2' % (h_c_fr_test))"
   ]
  },
  {
   "cell_type": "markdown",
   "id": "ea9e5733-f586-419c-926b-c201584b31bb",
   "metadata": {},
   "source": [
    "##### Forced Convection"
   ]
  },
  {
   "cell_type": "code",
   "execution_count": 7,
   "id": "dcfd8444-70eb-460e-8289-90f63618840e",
   "metadata": {},
   "outputs": [
    {
     "name": "stdout",
     "output_type": "stream",
     "text": [
      "Approximate value of forced convection coefficient = 332.36 W/K*m^2\n"
     ]
    }
   ],
   "source": [
    "Re_a = v_a * L_s / nu_a\n",
    "Nu_a_fo = 0.664 * Re_a**1/2 * Pr_a**1/3\n",
    "h_c_fo = k_a / L_s * Nu_a_fo\n",
    "\n",
    "# Example at T_a = 310K and T_s = 308K\n",
    "print('Approximate value of forced convection coefficient = %.2f W/K*m^2' % (h_c_fo))"
   ]
  },
  {
   "cell_type": "markdown",
   "id": "b6081813-b5e4-4174-a6bb-11f9a68f7523",
   "metadata": {},
   "source": [
    "##### Total Convection"
   ]
  },
  {
   "cell_type": "code",
   "execution_count": 8,
   "id": "b576e8b1-c291-4a39-97f8-a749352613f6",
   "metadata": {},
   "outputs": [
    {
     "name": "stdout",
     "output_type": "stream",
     "text": [
      "Approximate value of q_c = 664.72 W/m^2\n"
     ]
    }
   ],
   "source": [
    "h_c = h_c_fo # Neglicting free convection\n",
    "q_c = h_c * (T_a - T_s) # (W / m^2)\n",
    "\n",
    "# Example at T_a = 310K and T_s = 308K\n",
    "q_c_test = q_c[1].replace(T_s, 308)\n",
    "print('Approximate value of q_c = %.2f W/m^2' % (q_c_test))"
   ]
  },
  {
   "cell_type": "markdown",
   "id": "8fb3e9c7-77ad-43be-a0be-9409bc624069",
   "metadata": {},
   "source": [
    "#### Total Heat:"
   ]
  },
  {
   "cell_type": "code",
   "execution_count": 9,
   "id": "505f8499-a385-46c1-b9e0-6575fccde846",
   "metadata": {},
   "outputs": [
    {
     "name": "stdout",
     "output_type": "stream",
     "text": [
      "Approximate value of q_t = 25.48 W/m^2\n"
     ]
    }
   ],
   "source": [
    "R = 1/h_r + L_1/k_1 + L_2/k_2 + L_3/k_3 # (m^2 * K / W)\n",
    "\n",
    "q_t = (T_s - T_r) / R # (W / m^2)\n",
    "\n",
    "# Example at T_a = 310K and T_s = 308K\n",
    "q_t_test = q_t.replace(T_s, 308)\n",
    "print('Approximate value of q_t = %.2f W/m^2' % (q_t_test))"
   ]
  },
  {
   "cell_type": "markdown",
   "id": "9f072079-c294-4b68-b0e1-4f686d849313",
   "metadata": {},
   "source": [
    "### Solving\n",
    "\n",
    "\\begin{align*}\n",
    "  q_c + q_r &= q_t\n",
    "\\\\\n",
    "  \\therefore\\hspace{3pt} q_c + q_r - q_t &= 0\n",
    "\\end{align*}"
   ]
  },
  {
   "cell_type": "markdown",
   "id": "6bf02bd7-0d4b-4635-b3e5-438647bdf36e",
   "metadata": {},
   "source": [
    "#### Calculate $T_s$"
   ]
  },
  {
   "cell_type": "code",
   "execution_count": 10,
   "id": "4ec0a023-238b-49c8-b78e-8232c43cc455",
   "metadata": {},
   "outputs": [
    {
     "name": "stdout",
     "output_type": "stream",
     "text": [
      "T_s = 309.0 K for T_a = 305.0 K\n",
      "T_s = 313.9 K for T_a = 310.0 K\n",
      "T_s = 318.9 K for T_a = 315.0 K\n",
      "T_s = 323.8 K for T_a = 320.0 K\n"
     ]
    }
   ],
   "source": [
    "eq = q_c + q_r - q_t\n",
    "\n",
    "n = len(eq)\n",
    "T_s_calc = np.empty(n, dtype=object)\n",
    "\n",
    "for i in range(n):\n",
    "    T_s_calc[i] = round(sp.solve(eq[i], T_s)[0], 2)\n",
    "\n",
    "for i in range(n):\n",
    "    print('T_s = %.1f K for T_a = %.1f K' % (T_s_calc[i], T_a[i]))"
   ]
  },
  {
   "cell_type": "markdown",
   "id": "09217a61-9b26-4370-aedb-64648c1840cf",
   "metadata": {
    "tags": []
   },
   "source": [
    "#### Calculate $q_t$"
   ]
  },
  {
   "cell_type": "code",
   "execution_count": 11,
   "id": "bd0f1c43-6817-435e-a23b-d19f13919fd4",
   "metadata": {},
   "outputs": [
    {
     "name": "stdout",
     "output_type": "stream",
     "text": [
      "Heat entering = 28.5 W/m^2 for T_a = 305.0 K\n",
      "Heat entering = 44.3 W/m^2 for T_a = 310.0 K\n",
      "Heat entering = 60.0 W/m^2 for T_a = 315.0 K\n",
      "Heat entering = 75.8 W/m^2 for T_a = 320.0 K\n"
     ]
    }
   ],
   "source": [
    "q_t_calc = np.empty(n, dtype=object)\n",
    "\n",
    "for i in range(n):\n",
    "    q_t_calc[i] = q_t.replace(T_s, T_s_calc[i])\n",
    "\n",
    "for i in range(n):\n",
    "    print('Heat entering = %.1f W/m^2 for T_a = %.1f K' % (q_t_calc[i], T_a[i]))"
   ]
  },
  {
   "cell_type": "markdown",
   "id": "467681e4-2e98-48d8-9deb-ae318082d738",
   "metadata": {},
   "source": [
    "### Plot\n",
    "\n",
    "* Total Heat Flux Entering ($q_t$) vs Outside Air Temp ($T_a$)"
   ]
  },
  {
   "cell_type": "code",
   "execution_count": 15,
   "id": "b525efe9-6682-4bcd-b430-1ba21b16419f",
   "metadata": {},
   "outputs": [
    {
     "data": {
      "text/plain": [
       "Text(0.5, 1.0, 'Total Heat Flux Entering ($q_t$) vs Outside Air Temp ($T_a$)')"
      ]
     },
     "execution_count": 15,
     "metadata": {},
     "output_type": "execute_result"
    },
    {
     "data": {
      "image/png": "[encoded data removed]",
      "text/plain": [
       "<Figure size 720x432 with 1 Axes>"
      ]
     },
     "metadata": {},
     "output_type": "display_data"
    }
   ],
   "source": [
    "%matplotlib inline\n",
    "import matplotlib.pyplot as plt\n",
    "\n",
    "# Initialize matplotlib\n",
    "plt.rc('text', usetex=True) # Unnecessary\n",
    "plt.style.use('ggplot')\n",
    "plt.rcParams['grid.color'] = '#C0C0C0'\n",
    "\n",
    "fig = plt.figure(figsize=(10, 6))\n",
    "plt.plot(T_a, q_t_calc, color='#1F77B4cc', marker='o')\n",
    "plt.xticks(fontsize=20)\n",
    "plt.yticks(fontsize=20)\n",
    "plt.xlabel('$T_a$', fontsize=20)\n",
    "plt.ylabel('$q_t$', fontsize=20)\n",
    "plt.title('Total Heat Flux Entering ($q_t$) vs Outside Air Temp ($T_a$)', fontsize=18, pad=15)"
   ]
  }
 ],
 "metadata": {
  "kernelspec": {
   "display_name": "Python 3",
   "language": "python",
   "name": "python3"
  },
  "language_info": {
   "codemirror_mode": {
    "name": "ipython",
    "version": 3
   },
   "file_extension": ".py",
   "mimetype": "text/x-python",
   "name": "python",
   "nbconvert_exporter": "python",
   "pygments_lexer": "ipython3",
   "version": "3.9.4"
  }
 },
 "nbformat": 4,
 "nbformat_minor": 5
}
