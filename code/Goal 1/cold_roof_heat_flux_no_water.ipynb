{
 "cells": [
  {
   "cell_type": "markdown",
   "id": "cdb4cba1-d7fb-48ef-b2ec-6dba72ba5385",
   "metadata": {},
   "source": [
    "# Goal 2: Calculate $R_{net}$ & $\\dot{q}_x$ *(No Water Layer)*"
   ]
  },
  {
   "cell_type": "code",
   "execution_count": 2,
   "id": "8d71d3c3-2a8d-4b20-963b-fa81f0156184",
   "metadata": {},
   "outputs": [],
   "source": [
    "import sympy as sp\n",
    "import numpy as np"
   ]
  },
  {
   "cell_type": "code",
   "execution_count": 3,
   "id": "3de1654f-8728-4653-8d29-7fa61fb35518",
   "metadata": {},
   "outputs": [
    {
     "data": {
      "text/latex": [
       "$\\displaystyle 319010416666.667 - 1063368055.55556 T_{s}$"
      ],
      "text/plain": [
       "319010416666.667 - 1063368055.55556*T_s"
      ]
     },
     "metadata": {},
     "output_type": "display_data"
    }
   ],
   "source": [
    "T_oo = np.array([300.0, 305.0, 310.0, 315.0, 320.0, 325.0, 330.0]) # T_oo\n",
    "# T_oo = sp.symbols('T_oo')\n",
    "T_s = sp.symbols('T_s')\n",
    "\n",
    "delta_T = T_oo - T_s\n",
    "# delta_T = 30 # (Assume)\n",
    "\n",
    "#T_f = (T_oo + T_s) / 2\n",
    "T_f = 320.0\n",
    "beta = 1/T_f\n",
    "\n",
    "# cement=5cm, brick=10cm, lime=5cm\n",
    "L = 2.5 # Independant of length\n",
    "g = 9.8\n",
    "\n",
    "# linear interpolation\n",
    "# nu = 1e-6 * np.array([15.9, 16.4, 16.9, 17.4, 17.9, 18.4, 18.9])\n",
    "# alpha = 1e-6 * np.array([22.50, 23.25, 24.0, 24.75, 25.50, 26.25, 27.00])\n",
    "nu = 18e-6\n",
    "alpha = 25e-6\n",
    "\n",
    "Ra_L = (g * beta * delta_T * L**3) / (nu * alpha)\n",
    "display(Ra_L[0])\n",
    "# print('Raleigh Number =', Ra_L)"
   ]
  },
  {
   "cell_type": "code",
   "execution_count": 5,
   "id": "a0066d11-e88f-42b1-8c37-0a23e737345b",
   "metadata": {},
   "outputs": [
    {
     "data": {
      "text/latex": [
       "$\\displaystyle 103.935597369273 \\left(1 - 0.00333333333333333 T_{s}\\right)^{0.2}$"
      ],
      "text/plain": [
       "103.935597369273*(1 - 0.00333333333333333*T_s)**0.2"
      ]
     },
     "metadata": {},
     "output_type": "display_data"
    }
   ],
   "source": [
    "Nu_L = 0.52 * Ra_L**(1/5) # Upper Surface of Cold Plate\n",
    "# Nu_L = 0.15 * Ra_L**(1/3) # Lower Surface of Hot Plate\n",
    "display(Nu_L[0])\n",
    "# print('Nusselt Number =', Nu_L)"
   ]
  },
  {
   "cell_type": "code",
   "execution_count": 6,
   "id": "93f26975-f408-4760-9bc2-c57b98a0b115",
   "metadata": {},
   "outputs": [
    {
     "data": {
      "text/latex": [
       "$\\displaystyle 11.3561897597655 \\left(1 - 0.00333333333333333 T_{s}\\right)^{0.333333333333333} \\left(300.0 - T_{s}\\right)$"
      ],
      "text/plain": [
       "11.3561897597655*(1 - 0.00333333333333333*T_s)**0.333333333333333*(300.0 - T_s)"
      ]
     },
     "metadata": {},
     "output_type": "display_data"
    }
   ],
   "source": [
    "k = 27.7e-3\n",
    "h_t = k/L * Nu_L\n",
    "\n",
    "q_conv = h_t * delta_T # W/m^2\n",
    "display(q_conv[0])"
   ]
  },
  {
   "cell_type": "code",
   "execution_count": 7,
   "id": "2e6b1150-c4c5-4dd7-8d0a-ce2ad8f274d4",
   "metadata": {},
   "outputs": [
    {
     "data": {
      "text/plain": [
       "array([2602.53      , 2780.41794581, 2967.272973  , 3163.39148081,\n",
       "       3369.074688  , 3584.62863281, 3810.364173  ])"
      ]
     },
     "metadata": {},
     "output_type": "display_data"
    }
   ],
   "source": [
    "sigma = 5.67e-8 # Stefan Boltzmann Constant\n",
    "epsilon = 0.85 # Absorbtivity of concrete\n",
    "E_b = sigma * T_oo**4 # W/m^2\n",
    "\n",
    "q_rad = E_b * epsilon / (1-epsilon) # W/m^2\n",
    "display(q_rad)"
   ]
  },
  {
   "cell_type": "code",
   "execution_count": 8,
   "id": "fa63d0e9-cd85-45d2-854b-43b21d685c50",
   "metadata": {},
   "outputs": [
    {
     "data": {
      "text/latex": [
       "$\\displaystyle 11.3561897597655 \\left(1 - 0.00333333333333333 T_{s}\\right)^{0.333333333333333} \\left(300.0 - T_{s}\\right) + 2602.53$"
      ],
      "text/plain": [
       "11.3561897597655*(1 - 0.00333333333333333*T_s)**0.333333333333333*(300.0 - T_s) + 2602.53"
      ]
     },
     "metadata": {},
     "output_type": "display_data"
    }
   ],
   "source": [
    "q_net = q_rad + q_conv # W/m^2\n",
    "# q_net = q_rad + 100 # W/m^2\n",
    "display(q_net[0])"
   ]
  },
  {
   "cell_type": "code",
   "execution_count": 9,
   "id": "4c9c6fcb-7884-491b-a005-f3abba1d5e21",
   "metadata": {},
   "outputs": [
    {
     "name": "stdout",
     "output_type": "stream",
     "text": [
      "Net Resistance = 0.398 m^2*K/W\n"
     ]
    }
   ],
   "source": [
    "h_inside = 8.4 # W / (m^2 K)\n",
    "\n",
    "k_1 = 0.72 # Concrete\n",
    "k_2 = 0.71 # Brick\n",
    "k_3 = 0.73 # Lime\n",
    "\n",
    "L_1 = 0.05 # Concrete\n",
    "L_2 = 0.10 # Brick\n",
    "L_3 = 0.05 # Lime\n",
    "\n",
    "R = 1/h_inside + L_1/k_1 + L_2/k_2 + L_3/k_3 # K/W\n",
    "\n",
    "print(f\"Net Resistance = {round(R, 3)} m^2*K/W\")"
   ]
  },
  {
   "cell_type": "code",
   "execution_count": 10,
   "id": "1afae70f-7e6c-4ba5-9555-4a166b68717f",
   "metadata": {},
   "outputs": [
    {
     "data": {
      "text/latex": [
       "$\\displaystyle - 2.51363467968919 T_{s} + 11.3561897597655 \\left(1 - 0.00333333333333333 T_{s}\\right)^{0.333333333333333} \\left(300.0 - T_{s}\\right) + 3356.62040390676$"
      ],
      "text/plain": [
       "-2.51363467968919*T_s + 11.3561897597655*(1 - 0.00333333333333333*T_s)**0.333333333333333*(300.0 - T_s) + 3356.62040390676"
      ]
     },
     "metadata": {},
     "output_type": "display_data"
    }
   ],
   "source": [
    "T_r = 300 # K, Constant temperature room \n",
    "\n",
    "# q_net = (T_s - T_r) / R\n",
    "# q_net - (T_s - T_r) / R = 0\n",
    "final_eqn = q_net - (T_s-T_r)/R\n",
    "display(final_eqn[0])"
   ]
  },
  {
   "cell_type": "code",
   "execution_count": 11,
   "id": "2e4308ed-fbdf-4952-8f24-c44973b1c7cc",
   "metadata": {},
   "outputs": [
    {
     "data": {
      "text/plain": [
       "[]"
      ]
     },
     "metadata": {},
     "output_type": "display_data"
    },
    {
     "data": {
      "text/plain": [
       "[482.657611797856 - 141.211745184611*I, 482.657611797856 + 141.211745184611*I]"
      ]
     },
     "metadata": {},
     "output_type": "display_data"
    },
    {
     "data": {
      "text/plain": [
       "[]"
      ]
     },
     "metadata": {},
     "output_type": "display_data"
    },
    {
     "data": {
      "text/plain": [
       "[]"
      ]
     },
     "metadata": {},
     "output_type": "display_data"
    },
    {
     "data": {
      "text/plain": [
       "[]"
      ]
     },
     "metadata": {},
     "output_type": "display_data"
    },
    {
     "data": {
      "text/plain": [
       "[]"
      ]
     },
     "metadata": {},
     "output_type": "display_data"
    },
    {
     "data": {
      "text/plain": [
       "[]"
      ]
     },
     "metadata": {},
     "output_type": "display_data"
    }
   ],
   "source": [
    "# display(final_eqn[1].replace(T_s, 305))\n",
    "# sp.solve(final_eqn[i], T_s)\n",
    "\n",
    "n = len(final_eqn)\n",
    "\n",
    "for i in range(n):\n",
    "    display(sp.solve(final_eqn[i], T_s))"
   ]
  },
  {
   "cell_type": "markdown",
   "id": "3d6e8f82-9cdd-40ab-80f2-320156925468",
   "metadata": {},
   "source": [
    "References: Incorpera  \n",
    "eqns: pg 611, table 995"
   ]
  },
  {
   "cell_type": "code",
   "execution_count": 44,
   "id": "c46bf83b-011d-4be7-99b4-b3c106769338",
   "metadata": {},
   "outputs": [
    {
     "data": {
      "text/plain": [
       "2702.530000000004"
      ]
     },
     "metadata": {},
     "output_type": "display_data"
    }
   ],
   "source": [
    "q_net = (T_s - T_r) / R\n",
    "display(q_net)"
   ]
  },
  {
   "cell_type": "code",
   "execution_count": null,
   "id": "d685a3ff-5973-4084-95a3-17f127c68e7c",
   "metadata": {},
   "outputs": [],
   "source": []
  }
 ],
 "metadata": {
  "kernelspec": {
   "display_name": "Python 3",
   "language": "python",
   "name": "python3"
  },
  "language_info": {
   "codemirror_mode": {
    "name": "ipython",
    "version": 3
   },
   "file_extension": ".py",
   "mimetype": "text/x-python",
   "name": "python",
   "nbconvert_exporter": "python",
   "pygments_lexer": "ipython3",
   "version": "3.9.4"
  }
 },
 "nbformat": 4,
 "nbformat_minor": 5
}
