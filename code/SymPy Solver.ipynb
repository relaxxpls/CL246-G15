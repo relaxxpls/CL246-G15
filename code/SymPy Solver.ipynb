{
 "cells": [
  {
   "cell_type": "code",
   "execution_count": 25,
   "id": "rocky-courage",
   "metadata": {},
   "outputs": [],
   "source": [
    "import sympy as sp"
   ]
  },
  {
   "cell_type": "markdown",
   "id": "favorite-cliff",
   "metadata": {},
   "source": [
    "### Basic Operations in SymPy"
   ]
  },
  {
   "cell_type": "code",
   "execution_count": 26,
   "id": "biblical-frontier",
   "metadata": {},
   "outputs": [
    {
     "data": {
      "image/png": "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\n",
      "text/latex": [
       "$\\displaystyle \\frac{\\partial^{2}}{\\partial y\\partial x} f{\\left(x,y \\right)}$"
      ],
      "text/plain": [
       "   2          \n",
       "  ∂           \n",
       "─────(f(x, y))\n",
       "∂y ∂x         "
      ]
     },
     "metadata": {},
     "output_type": "display_data"
    },
    {
     "data": {
      "image/png": "iVBORw0KGgoAAAANSUhEUgAAABQAAAATCAYAAACQjC21AAAACXBIWXMAAA7EAAAOxAGVKw4bAAABY0lEQVQ4EaWTPVLCYBCGg3IAtLSMN4CxT4E3cPQEQGmZSZW08QYMJ3D0CBbpEW+ApSWTG8TnzSxxZfxJws687M+3+7Lft5tBVVVBV8mybERNYnWh6RnxctiVzPJzihf7Wuwl9gZcnuyDHfUckqmrybFDYuO+hOru1RF+mXrDY5GmaQ624unbYdORrolzAyYKHkUIWQiH3m+CXYqw75QDI4vR1yIyPxj03EN1plWJRWaiQcV9O9TOabmlG6HLRdMhjhLmdnqFngF1cmexNTnPZv+q/FC0/Q8C2WuwAlN8XUt/psf/V+orU6TOfIEmplVQl5Jz4M/r4I8/GgpLOfbLjb8EGx9ra9dXpsO3g3+7xX88iLVy/RvWBZDro9ebNQMgNhLaMA4t8YlkDeUFrX0qsd8dQYLvd84dfTfVoToSdka+8ynEdKapt5LTKIo+yNQUz4C+yaQoii24BxfEKmLN9fH/lE/Lw91oac+XqQAAAABJRU5ErkJggg==\n",
      "text/latex": [
       "$\\displaystyle x^{2}$"
      ],
      "text/plain": [
       " 2\n",
       "x "
      ]
     },
     "execution_count": 26,
     "metadata": {},
     "output_type": "execute_result"
    }
   ],
   "source": [
    "x, y = sp.symbols('x y')\n",
    "\n",
    "f = sp.Function('f')(x, y)\n",
    "\n",
    "display(f.diff(x, y))\n",
    "\n",
    "exp = x**2\n",
    "exp"
   ]
  },
  {
   "cell_type": "markdown",
   "id": "comic-lightning",
   "metadata": {},
   "source": [
    "### Initialising the Equations:"
   ]
  },
  {
   "cell_type": "markdown",
   "id": "smaller-acoustic",
   "metadata": {},
   "source": [
    "Equation 1.1:\n",
    "\n",
<<<<<<< Updated upstream
    "![Eq 1.1](https://github.com/relaxxpls/CL246-G15/blob/main/docs/img/eq1.jpg)"
=======
    "<img src=\"https://github.com/relaxxpls/CL246-G15/blob/main/docs/img/eq1.jpg\">"
>>>>>>> Stashed changes
   ]
  },
  {
   "cell_type": "code",
   "execution_count": 27,
   "id": "designing-banner",
   "metadata": {},
   "outputs": [
    {
     "ename": "TypeError",
     "evalue": "__new__() missing 1 required positional argument: 'lhs'",
     "output_type": "error",
     "traceback": [
      "\u001b[1;31m---------------------------------------------------------------------------\u001b[0m",
      "\u001b[1;31mTypeError\u001b[0m                                 Traceback (most recent call last)",
      "\u001b[1;32m<ipython-input-27-8fd24b22ea32>\u001b[0m in \u001b[0;36m<module>\u001b[1;34m\u001b[0m\n\u001b[1;32m----> 1\u001b[1;33m \u001b[0mEQ1_1\u001b[0m \u001b[1;33m=\u001b[0m \u001b[0mEq\u001b[0m\u001b[1;33m(\u001b[0m\u001b[1;33m)\u001b[0m\u001b[1;33m\u001b[0m\u001b[1;33m\u001b[0m\u001b[0m\n\u001b[0m\u001b[0;32m      2\u001b[0m \u001b[1;33m\u001b[0m\u001b[0m\n\u001b[0;32m      3\u001b[0m \u001b[0mdisplay\u001b[0m\u001b[1;33m(\u001b[0m\u001b[0mEQ1_1\u001b[0m\u001b[1;33m)\u001b[0m\u001b[1;33m\u001b[0m\u001b[1;33m\u001b[0m\u001b[0m\n",
      "\u001b[1;31mTypeError\u001b[0m: __new__() missing 1 required positional argument: 'lhs'"
     ]
    }
   ],
   "source": [
    "EQ1_1 = sp.Eq()\n",
    "\n",
    "display(EQ1_1)"
   ]
  }
 ],
 "metadata": {
  "kernelspec": {
   "display_name": "Python 3",
   "language": "python",
   "name": "python3"
  },
  "language_info": {
   "codemirror_mode": {
    "name": "ipython",
    "version": 3
   },
   "file_extension": ".py",
   "mimetype": "text/x-python",
   "name": "python",
   "nbconvert_exporter": "python",
   "pygments_lexer": "ipython3",
   "version": "3.9.2"
  }
 },
 "nbformat": 4,
 "nbformat_minor": 5
}
