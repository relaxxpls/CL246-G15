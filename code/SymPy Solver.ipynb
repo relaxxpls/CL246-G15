{
 "cells": [
  {
   "cell_type": "code",
   "execution_count": 1,
   "id": "swedish-artwork",
   "metadata": {},
   "outputs": [],
   "source": [
    "import sympy as sp"
   ]
  },
  {
   "cell_type": "markdown",
   "id": "respiratory-washer",
   "metadata": {},
   "source": [
    "### Basic Operations in SymPy"
   ]
  },
  {
   "cell_type": "code",
   "execution_count": 2,
   "id": "entitled-revelation",
   "metadata": {},
   "outputs": [
    {
     "data": {
      "text/latex": [
       "$\\displaystyle \\frac{\\partial^{2}}{\\partial y\\partial x} f{\\left(x,y \\right)}$"
      ],
      "text/plain": [
       "Derivative(f(x, y), x, y)"
      ]
     },
     "metadata": {},
     "output_type": "display_data"
    },
    {
     "data": {
      "text/latex": [
       "$\\displaystyle x^{2}$"
      ],
      "text/plain": [
       "x**2"
      ]
     },
     "execution_count": 2,
     "metadata": {},
     "output_type": "execute_result"
    }
   ],
   "source": [
    "x, y = sp.symbols('x y')\n",
    "\n",
    "f = sp.Function('f')(x, y)\n",
    "\n",
    "display(f.diff(x, y))\n",
    "\n",
    "exp = x**2\n",
    "exp"
   ]
  },
  {
   "cell_type": "markdown",
   "id": "respiratory-parts",
   "metadata": {},
   "source": [
    "### Initialising the Equations:"
   ]
  },
  {
   "cell_type": "markdown",
   "id": "contemporary-employment",
   "metadata": {},
   "source": [
    "#### Equation 1.1:\n",
    "<div style=\"text-align:center\"> <img src=\"img/eq1.jpg\" width=\"800\"/> </div>"
   ]
  },
  {
   "cell_type": "code",
   "execution_count": 11,
   "id": "massive-boston",
   "metadata": {},
   "outputs": [
    {
     "data": {
      "text/latex": [
       "$\\displaystyle T_{R}$"
      ],
      "text/plain": [
       "T_R"
      ]
     },
     "metadata": {},
     "output_type": "display_data"
    },
    {
     "data": {
      "text/latex": [
       "$\\displaystyle \\operatorname{Q_{W}}{\\left(t \\right)}$"
      ],
      "text/plain": [
       "Q_W(t)"
      ]
     },
     "metadata": {},
     "output_type": "display_data"
    }
   ],
   "source": [
    "t = sp.symbols('t')\n",
    "\n",
    "T_R = sp.symbols('T_R')\n",
    "\n",
    "Q_W = sp.Function('Q_W')(t)\n",
    "# EQ1_1 = sp.Eq(M_R * T_R.diff(t), Q_W + Q_R + Q_D - Q_F - Q_iv)\n",
    "\n",
    "display(T_R, Q_W)"
   ]
  },
  {
   "cell_type": "markdown",
   "id": "wanted-portland",
   "metadata": {},
   "source": [
    "#### Equations 2.x:\n",
    "<div style=\"text-align:center\"> <img src=\"img/eq2.jpg\" width=\"800\"/> </div>"
   ]
  },
  {
   "cell_type": "code",
   "execution_count": null,
   "id": "native-poetry",
   "metadata": {},
   "outputs": [],
   "source": []
  },
  {
   "cell_type": "markdown",
   "id": "quality-laugh",
   "metadata": {},
   "source": [
    "#### Equations 3.x:\n",
    "<div style=\"text-align:center\"> <img src=\"img/eq3.jpg\" width=\"800\"/> </div>"
   ]
  },
  {
   "cell_type": "code",
   "execution_count": null,
   "id": "dirty-medicare",
   "metadata": {},
   "outputs": [],
   "source": []
  },
  {
   "cell_type": "markdown",
   "id": "spiritual-absorption",
   "metadata": {},
   "source": [
    "#### Equations 4.x:\n",
    "<div style=\"text-align:center\"> <img src=\"img/eq4.jpg\" width=\"800\"/> </div>"
   ]
  },
  {
   "cell_type": "code",
   "execution_count": null,
   "id": "known-saint",
   "metadata": {},
   "outputs": [],
   "source": []
  }
 ],
 "metadata": {
  "kernelspec": {
   "display_name": "Python 3",
   "language": "python",
   "name": "python3"
  },
  "language_info": {
   "codemirror_mode": {
    "name": "ipython",
    "version": 3
   },
   "file_extension": ".py",
   "mimetype": "text/x-python",
   "name": "python",
   "nbconvert_exporter": "python",
   "pygments_lexer": "ipython3",
   "version": "3.9.2"
  }
 },
 "nbformat": 4,
 "nbformat_minor": 5
}